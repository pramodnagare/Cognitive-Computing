{
 "cells": [
  {
   "cell_type": "code",
   "execution_count": 14,
   "metadata": {},
   "outputs": [],
   "source": [
    "current_job_id = '006'\n",
    "checkpoint_name = 'weights.{epoch:02d}-{val_loss:.2f}.hdf5'\n",
    "filepath = 'saved_models/'\n",
    "epochs_n = 200"
   ]
  },
  {
   "cell_type": "code",
   "execution_count": 15,
   "metadata": {
    "colab": {
     "base_uri": "https://localhost:8080/",
     "height": 51
    },
    "colab_type": "code",
    "id": "qERc6CSPSpt0",
    "outputId": "502c253b-f50c-4a98-e1c3-2633a365929b"
   },
   "outputs": [
    {
     "name": "stdout",
     "output_type": "stream",
     "text": [
      "Shape of training dataset : (50000, 3, 32, 32)\n",
      "Shape of testing dataste : (10000, 3, 32, 32)\n"
     ]
    }
   ],
   "source": [
    "import keras \n",
    "from keras.models import Sequential\n",
    "from keras.layers import  Conv2D, MaxPooling2D, Dense, Flatten,Dropout,Activation\n",
    "from keras.layers import BatchNormalization\n",
    "from keras.utils import np_utils\n",
    "from keras.preprocessing.image import ImageDataGenerator\n",
    "import matplotlib.pyplot as plt \n",
    "import numpy as np\n",
    "from keras import regularizers\n",
    "from keras.datasets import cifar10\n",
    "from keras.optimizers import SGD \n",
    "\n",
    "(x_train,y_train),(x_test,y_test) = cifar10.load_data()\n",
    "\n",
    "print('Shape of training dataset :',x_train.shape)\n",
    "print('Shape of testing dataste :' ,x_test.shape)\n",
    "\n",
    "#formatting the dataset \n",
    "x_train = x_train.astype('float32')\n",
    "x_test = x_test.astype('float32')\n",
    "\n",
    "x_train = x_train/255.\n",
    "x_test = x_test/255.\n",
    "\n",
    "y_train = np_utils.to_categorical(y_train,10)\n",
    "y_test = np_utils.to_categorical(y_test,10)\n"
   ]
  },
  {
   "cell_type": "code",
   "execution_count": 16,
   "metadata": {
    "colab": {
     "base_uri": "https://localhost:8080/",
     "height": 4050
    },
    "colab_type": "code",
    "id": "QvetEnFuVVcf",
    "outputId": "2101006e-2e97-4995-d67c-99e753c3a8cd"
   },
   "outputs": [],
   "source": [
    "rglrzr = None #regularizers.l2(0.0003)\n",
    "drop_out = 0.3\n",
    "\n",
    "\n",
    "model = Sequential()\n",
    "model.add(Conv2D(32, (3, 3), padding='same',\n",
    "                 input_shape=x_train.shape[1:]))\n",
    "model.add(Activation('relu'))\n",
    "model.add(BatchNormalization())\n",
    "model.add(Conv2D(32, (3, 3), padding='same'))\n",
    "model.add(Activation('relu'))\n",
    "model.add(BatchNormalization())\n",
    "model.add(MaxPooling2D(pool_size=(2, 2)))\n",
    "model.add(Dropout(0.1))\n",
    " \n",
    "model.add(Conv2D(64, (3, 3), padding='same'))\n",
    "model.add(Activation('relu'))\n",
    "model.add(BatchNormalization())\n",
    "model.add(Conv2D(64, (3, 3), padding='same'))\n",
    "model.add(Activation('relu'))\n",
    "model.add(BatchNormalization())\n",
    "model.add(MaxPooling2D(pool_size=(2, 2)))\n",
    "model.add(Dropout(0.1))\n",
    "\n",
    "model.add(Conv2D(64, (3, 3), padding='same'))\n",
    "model.add(Activation('relu'))\n",
    "model.add(BatchNormalization())\n",
    "model.add(Conv2D(64, (3, 3), padding='same'))\n",
    "model.add(Activation('relu'))\n",
    "model.add(BatchNormalization())\n",
    "model.add(MaxPooling2D(pool_size=(2, 2)))\n",
    "model.add(Dropout(0.1))\n",
    "\n",
    "model.add(Conv2D(128, (3, 3), padding='same'))\n",
    "model.add(Activation('relu'))\n",
    "model.add(BatchNormalization())\n",
    "model.add(Conv2D(128, (3, 3), padding='same'))\n",
    "model.add(Activation('relu'))\n",
    "model.add(BatchNormalization())\n",
    "model.add(MaxPooling2D(pool_size=(2, 2)))\n",
    "model.add(Dropout(0.1))\n",
    " \n",
    "\n",
    "model.add(Flatten())\n",
    "model.add(Dense(512))\n",
    "model.add(Activation('relu'))\n",
    "model.add(Dropout(0.2))\n",
    "model.add(Dense(10))\n",
    "model.add(Activation('softmax'))\n",
    "\n",
    "\n",
    "sgd = SGD(lr=0.015, momentum=0.9)\n",
    "model.compile(loss='categorical_crossentropy',optimizer=sgd, metrics=['accuracy'])\n",
    "datagen = ImageDataGenerator(\n",
    "    featurewise_center=False,\n",
    "    featurewise_std_normalization=False,\n",
    "    rotation_range=20,\n",
    "    width_shift_range=0.2,\n",
    "    height_shift_range=0.2,\n",
    "    horizontal_flip=True,\n",
    "    vertical_flip = False,\n",
    "    #validation_split=0.2\n",
    "    )\n",
    "\n",
    "# compute quantities required for featurewise normalization\n",
    "# (std, mean, and principal components if ZCA whitening is applied)\n",
    "datagen.fit(x_train)\n",
    "\n",
    "\n",
    "\n",
    "#add some callbacks:\n",
    "callbacks = []\n",
    "\n",
    "checkpoint = keras.callbacks.ModelCheckpoint(filepath=filepath+current_job_id+checkpoint_name, monitor='val_loss', verbose=0, save_best_only=False, save_weights_only=False, mode='auto', period=5)\n",
    "reduce_lr = keras.callbacks.ReduceLROnPlateau(monitor='val_loss', factor=0.1, patience=5, verbose=0, mode='auto', min_delta=0.000001, cooldown=0, min_lr=0)\n",
    "early_stopping = keras.callbacks.EarlyStopping(monitor='val_loss', min_delta=0, patience=15, verbose=0, mode='auto', baseline=None, restore_best_weights=True)\n",
    "\n",
    "callbacks.append(checkpoint)\n",
    "callbacks.append(reduce_lr)\n",
    "callbacks.append(early_stopping)"
   ]
  },
  {
   "cell_type": "code",
   "execution_count": 17,
   "metadata": {
    "colab": {},
    "colab_type": "code",
    "id": "cpiV5bVwIyy4"
   },
   "outputs": [
    {
     "name": "stdout",
     "output_type": "stream",
     "text": [
      "Epoch 1/200\n",
      "  1/782 [..............................] - ETA: 3:26 - loss: 3.1352 - acc: 0.1250"
     ]
    },
    {
     "name": "stderr",
     "output_type": "stream",
     "text": [
      "/home/shiqidai1002/anaconda3/lib/python3.7/site-packages/mxnet/module/bucketing_module.py:408: UserWarning: Optimizer created manually outside Module but rescale_grad is not normalized to 1.0/batch_size/num_workers (1.0 vs. 0.015625). Is this intended?\n",
      "  force_init=force_init)\n"
     ]
    },
    {
     "name": "stdout",
     "output_type": "stream",
     "text": [
      "782/782 [==============================] - 19s 24ms/step - loss: 1.8780 - acc: 0.3141 - val_loss: 1.7894 - val_acc: 0.3254\n",
      "Epoch 2/200\n",
      "782/782 [==============================] - 19s 25ms/step - loss: 1.5583 - acc: 0.4323 - val_loss: 1.4814 - val_acc: 0.4803\n",
      "Epoch 3/200\n",
      "782/782 [==============================] - 19s 25ms/step - loss: 1.3894 - acc: 0.5000 - val_loss: 1.3472 - val_acc: 0.5171\n",
      "Epoch 4/200\n",
      "782/782 [==============================] - 19s 25ms/step - loss: 1.2727 - acc: 0.5483 - val_loss: 1.4455 - val_acc: 0.5133\n",
      "Epoch 5/200\n",
      "782/782 [==============================] - 19s 24ms/step - loss: 1.1884 - acc: 0.5800 - val_loss: 1.5181 - val_acc: 0.4944\n",
      "Epoch 6/200\n",
      "782/782 [==============================] - 19s 24ms/step - loss: 1.1093 - acc: 0.6110 - val_loss: 1.1302 - val_acc: 0.6150\n",
      "Epoch 7/200\n",
      "782/782 [==============================] - 19s 24ms/step - loss: 1.0498 - acc: 0.6337 - val_loss: 1.0287 - val_acc: 0.6528\n",
      "Epoch 8/200\n",
      "782/782 [==============================] - 20s 26ms/step - loss: 0.9989 - acc: 0.6529 - val_loss: 0.8993 - val_acc: 0.6930\n",
      "Epoch 9/200\n",
      "782/782 [==============================] - 20s 25ms/step - loss: 0.9472 - acc: 0.6716 - val_loss: 0.8771 - val_acc: 0.7001\n",
      "Epoch 10/200\n",
      "782/782 [==============================] - 19s 24ms/step - loss: 0.9074 - acc: 0.6865 - val_loss: 0.9093 - val_acc: 0.6954\n",
      "Epoch 11/200\n",
      "782/782 [==============================] - 19s 24ms/step - loss: 0.8719 - acc: 0.7007 - val_loss: 0.8104 - val_acc: 0.7203\n",
      "Epoch 12/200\n",
      "782/782 [==============================] - 18s 23ms/step - loss: 0.8368 - acc: 0.7116 - val_loss: 1.0853 - val_acc: 0.6678\n",
      "Epoch 13/200\n",
      "782/782 [==============================] - 19s 25ms/step - loss: 0.8055 - acc: 0.7249 - val_loss: 0.9105 - val_acc: 0.7121\n",
      "Epoch 14/200\n",
      "782/782 [==============================] - 22s 28ms/step - loss: 0.7832 - acc: 0.7313 - val_loss: 0.7616 - val_acc: 0.7455\n",
      "Epoch 15/200\n",
      "782/782 [==============================] - 18s 23ms/step - loss: 0.7560 - acc: 0.7437 - val_loss: 0.8223 - val_acc: 0.7294\n",
      "Epoch 16/200\n",
      "782/782 [==============================] - 19s 24ms/step - loss: 0.7345 - acc: 0.7491 - val_loss: 0.7711 - val_acc: 0.7429\n",
      "Epoch 17/200\n",
      "782/782 [==============================] - 18s 23ms/step - loss: 0.7231 - acc: 0.7527 - val_loss: 0.7297 - val_acc: 0.7527\n",
      "Epoch 18/200\n",
      "782/782 [==============================] - 18s 23ms/step - loss: 0.6989 - acc: 0.7619 - val_loss: 0.7609 - val_acc: 0.7463\n",
      "Epoch 19/200\n",
      "782/782 [==============================] - 18s 23ms/step - loss: 0.6827 - acc: 0.7665 - val_loss: 0.7330 - val_acc: 0.7577\n",
      "Epoch 20/200\n",
      "782/782 [==============================] - 19s 24ms/step - loss: 0.6669 - acc: 0.7720 - val_loss: 0.7558 - val_acc: 0.7584\n",
      "Epoch 21/200\n",
      "782/782 [==============================] - 20s 25ms/step - loss: 0.6526 - acc: 0.7775 - val_loss: 0.6138 - val_acc: 0.7937\n",
      "Epoch 22/200\n",
      "782/782 [==============================] - 18s 23ms/step - loss: 0.6431 - acc: 0.7822 - val_loss: 0.6492 - val_acc: 0.7852\n",
      "Epoch 23/200\n",
      "782/782 [==============================] - 18s 23ms/step - loss: 0.6268 - acc: 0.7873 - val_loss: 0.6192 - val_acc: 0.7873\n",
      "Epoch 24/200\n",
      "782/782 [==============================] - 18s 23ms/step - loss: 0.6160 - acc: 0.7882 - val_loss: 0.6430 - val_acc: 0.7971\n",
      "Epoch 25/200\n",
      "782/782 [==============================] - 18s 23ms/step - loss: 0.6110 - acc: 0.7915 - val_loss: 0.5972 - val_acc: 0.7948\n",
      "Epoch 26/200\n",
      "782/782 [==============================] - 19s 25ms/step - loss: 0.6030 - acc: 0.7957 - val_loss: 0.6348 - val_acc: 0.7906\n",
      "Epoch 27/200\n",
      "782/782 [==============================] - 19s 25ms/step - loss: 0.5861 - acc: 0.7988 - val_loss: 0.5475 - val_acc: 0.8175\n",
      "Epoch 28/200\n",
      "782/782 [==============================] - 18s 24ms/step - loss: 0.5811 - acc: 0.8023 - val_loss: 0.5502 - val_acc: 0.8127\n",
      "Epoch 29/200\n",
      "782/782 [==============================] - 19s 24ms/step - loss: 0.5735 - acc: 0.8039 - val_loss: 0.6240 - val_acc: 0.7864\n",
      "Epoch 30/200\n",
      "782/782 [==============================] - 21s 27ms/step - loss: 0.5592 - acc: 0.8076 - val_loss: 0.6325 - val_acc: 0.7963\n",
      "Epoch 31/200\n",
      "782/782 [==============================] - 21s 27ms/step - loss: 0.5558 - acc: 0.8107 - val_loss: 0.6758 - val_acc: 0.7792\n",
      "Epoch 32/200\n",
      "782/782 [==============================] - 19s 25ms/step - loss: 0.5496 - acc: 0.8142 - val_loss: 0.5478 - val_acc: 0.8188\n",
      "Epoch 33/200\n",
      "782/782 [==============================] - 19s 24ms/step - loss: 0.5060 - acc: 0.8261 - val_loss: 0.5074 - val_acc: 0.8313\n",
      "Epoch 34/200\n",
      "782/782 [==============================] - 18s 23ms/step - loss: 0.4827 - acc: 0.8342 - val_loss: 0.4936 - val_acc: 0.8368\n",
      "Epoch 35/200\n",
      "782/782 [==============================] - 18s 23ms/step - loss: 0.4755 - acc: 0.8366 - val_loss: 0.4667 - val_acc: 0.8446\n",
      "Epoch 36/200\n",
      "782/782 [==============================] - 18s 23ms/step - loss: 0.4658 - acc: 0.8385 - val_loss: 0.4915 - val_acc: 0.8382\n",
      "Epoch 37/200\n",
      "782/782 [==============================] - 18s 23ms/step - loss: 0.4614 - acc: 0.8403 - val_loss: 0.4672 - val_acc: 0.8431\n",
      "Epoch 38/200\n",
      "782/782 [==============================] - 19s 24ms/step - loss: 0.4548 - acc: 0.8421 - val_loss: 0.4694 - val_acc: 0.8431\n",
      "Epoch 39/200\n",
      "782/782 [==============================] - 19s 24ms/step - loss: 0.4543 - acc: 0.8440 - val_loss: 0.4747 - val_acc: 0.8446\n",
      "Epoch 40/200\n",
      "782/782 [==============================] - 20s 26ms/step - loss: 0.4481 - acc: 0.8460 - val_loss: 0.4669 - val_acc: 0.8437\n",
      "Epoch 41/200\n",
      "782/782 [==============================] - 19s 24ms/step - loss: 0.4453 - acc: 0.8466 - val_loss: 0.4716 - val_acc: 0.8443\n",
      "Epoch 42/200\n",
      "782/782 [==============================] - 19s 24ms/step - loss: 0.4452 - acc: 0.8462 - val_loss: 0.4734 - val_acc: 0.8429\n",
      "Epoch 43/200\n",
      "782/782 [==============================] - 18s 24ms/step - loss: 0.4434 - acc: 0.8443 - val_loss: 0.4713 - val_acc: 0.8435\n",
      "Epoch 44/200\n",
      "782/782 [==============================] - 20s 25ms/step - loss: 0.4436 - acc: 0.8481 - val_loss: 0.4722 - val_acc: 0.8443\n",
      "Epoch 45/200\n",
      "782/782 [==============================] - 20s 25ms/step - loss: 0.4430 - acc: 0.8473 - val_loss: 0.4671 - val_acc: 0.8447\n",
      "Epoch 46/200\n",
      "782/782 [==============================] - 20s 25ms/step - loss: 0.4435 - acc: 0.8480 - val_loss: 0.4721 - val_acc: 0.8446\n",
      "Epoch 47/200\n",
      "782/782 [==============================] - 21s 27ms/step - loss: 0.4450 - acc: 0.8449 - val_loss: 0.4694 - val_acc: 0.8445\n",
      "Epoch 48/200\n",
      "782/782 [==============================] - 19s 25ms/step - loss: 0.4462 - acc: 0.8474 - val_loss: 0.4717 - val_acc: 0.8434\n",
      "Epoch 49/200\n",
      "782/782 [==============================] - 19s 24ms/step - loss: 0.4413 - acc: 0.8479 - val_loss: 0.4692 - val_acc: 0.8450\n",
      "Epoch 50/200\n",
      "782/782 [==============================] - 19s 24ms/step - loss: 0.4416 - acc: 0.8477 - val_loss: 0.4708 - val_acc: 0.8443\n",
      "Epoch 51/200\n",
      "782/782 [==============================] - 20s 25ms/step - loss: 0.4419 - acc: 0.8455 - val_loss: 0.4688 - val_acc: 0.8446\n",
      "Epoch 52/200\n",
      "782/782 [==============================] - 19s 25ms/step - loss: 0.4439 - acc: 0.8457 - val_loss: 0.4676 - val_acc: 0.8443\n",
      "Epoch 53/200\n",
      "782/782 [==============================] - 19s 24ms/step - loss: 0.4382 - acc: 0.8497 - val_loss: 0.4699 - val_acc: 0.8440\n",
      "Epoch 54/200\n",
      "782/782 [==============================] - 19s 25ms/step - loss: 0.4435 - acc: 0.8458 - val_loss: 0.4695 - val_acc: 0.8446\n",
      "Epoch 55/200\n",
      "782/782 [==============================] - 20s 25ms/step - loss: 0.4428 - acc: 0.8464 - val_loss: 0.4699 - val_acc: 0.8444\n"
     ]
    },
    {
     "ename": "NameError",
     "evalue": "name 'test_y' is not defined",
     "output_type": "error",
     "traceback": [
      "\u001b[0;31m---------------------------------------------------------------------------\u001b[0m",
      "\u001b[0;31mNameError\u001b[0m                                 Traceback (most recent call last)",
      "\u001b[0;32m<ipython-input-17-06d29c8ffd86>\u001b[0m in \u001b[0;36m<module>\u001b[0;34m()\u001b[0m\n\u001b[1;32m      6\u001b[0m                               callbacks = callbacks)\n\u001b[1;32m      7\u001b[0m \u001b[0;34m\u001b[0m\u001b[0m\n\u001b[0;32m----> 8\u001b[0;31m \u001b[0mscore\u001b[0m \u001b[0;34m=\u001b[0m \u001b[0mmodel\u001b[0m\u001b[0;34m.\u001b[0m\u001b[0mevaluate\u001b[0m\u001b[0;34m(\u001b[0m\u001b[0mx\u001b[0m\u001b[0;34m=\u001b[0m\u001b[0mx_test\u001b[0m\u001b[0;34m,\u001b[0m\u001b[0my\u001b[0m\u001b[0;34m=\u001b[0m\u001b[0mtest_y\u001b[0m\u001b[0;34m)\u001b[0m\u001b[0;34m\u001b[0m\u001b[0m\n\u001b[0m\u001b[1;32m      9\u001b[0m \u001b[0mprint\u001b[0m\u001b[0;34m(\u001b[0m\u001b[0;34m'score:'\u001b[0m \u001b[0;34m+\u001b[0m \u001b[0mscore\u001b[0m\u001b[0;34m)\u001b[0m\u001b[0;34m\u001b[0m\u001b[0m\n\u001b[1;32m     10\u001b[0m \u001b[0;34m\u001b[0m\u001b[0m\n",
      "\u001b[0;31mNameError\u001b[0m: name 'test_y' is not defined"
     ]
    }
   ],
   "source": [
    "# fits the model on batches with real-time data augmentation:\n",
    "history = model.fit_generator(datagen.flow(x_train, y_train,\n",
    "                                     batch_size=64), \n",
    "                              epochs=epochs_n,\n",
    "                              validation_data=(x_test,y_test),\n",
    "                              callbacks = callbacks)"
   ]
  },
  {
   "cell_type": "code",
   "execution_count": 20,
   "metadata": {},
   "outputs": [
    {
     "name": "stdout",
     "output_type": "stream",
     "text": [
      "10000/10000 [==============================] - 1s 127us/step\n",
      "[0.4667139966249466, 0.8446]\n"
     ]
    },
    {
     "data": {
      "image/png": "[encoded data removed]",
      "text/plain": [
       "<Figure size 432x288 with 1 Axes>"
      ]
     },
     "metadata": {
      "needs_background": "light"
     },
     "output_type": "display_data"
    },
    {
     "data": {
      "image/png": "[encoded data removed]",
      "text/plain": [
       "<Figure size 432x288 with 1 Axes>"
      ]
     },
     "metadata": {
      "needs_background": "light"
     },
     "output_type": "display_data"
    }
   ],
   "source": [
    "score = model.evaluate(x=x_test,y=y_test)\n",
    "print(score)\n",
    "\n",
    "model.save(filepath + current_job_id)\n",
    "\n",
    "plt.plot(history.history['acc'])\n",
    "plt.plot(history.history['val_acc'])\n",
    "plt.title('model accuracy')\n",
    "plt.ylabel('accuracy')\n",
    "plt.xlabel('epoch')\n",
    "plt.legend(['train', 'test'], loc='upper left')\n",
    "plt.show()\n",
    "# summarize history for loss\n",
    "plt.plot(history.history['loss'])\n",
    "plt.plot(history.history['val_loss'])\n",
    "plt.title('model loss')\n",
    "plt.ylabel('loss')\n",
    "plt.xlabel('epoch')\n",
    "plt.legend(['train', 'test'], loc='upper left')\n",
    "plt.show()"
   ]
  }
 ],
 "metadata": {
  "accelerator": "GPU",
  "colab": {
   "collapsed_sections": [],
   "name": "research.ipynb",
   "provenance": [],
   "version": "0.3.2"
  },
  "kernelspec": {
   "display_name": "Python 3",
   "language": "python",
   "name": "python3"
  },
  "language_info": {
   "codemirror_mode": {
    "name": "ipython",
    "version": 3
   },
   "file_extension": ".py",
   "mimetype": "text/x-python",
   "name": "python",
   "nbconvert_exporter": "python",
   "pygments_lexer": "ipython3",
   "version": "3.7.0"
  }
 },
 "nbformat": 4,
 "nbformat_minor": 1
}
