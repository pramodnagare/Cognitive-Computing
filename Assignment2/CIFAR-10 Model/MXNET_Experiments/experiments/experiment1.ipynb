{
 "cells": [
  {
   "cell_type": "code",
   "execution_count": 1,
   "metadata": {
    "colab": {
     "base_uri": "https://localhost:8080/",
     "height": 51
    },
    "colab_type": "code",
    "id": "qERc6CSPSpt0",
    "outputId": "502c253b-f50c-4a98-e1c3-2633a365929b"
   },
   "outputs": [
    {
     "name": "stderr",
     "output_type": "stream",
     "text": [
      "Using MXNet backend\n"
     ]
    },
    {
     "name": "stdout",
     "output_type": "stream",
     "text": [
      "Shape of training dataset : (50000, 3, 32, 32)\n",
      "Shape of testing dataste : (10000, 3, 32, 32)\n"
     ]
    }
   ],
   "source": [
    "import keras \n",
    "from keras.models import Sequential\n",
    "from keras.layers import  Conv2D, MaxPooling2D, Dense, Flatten,Dropout,Activation\n",
    "from keras.layers import BatchNormalization\n",
    "from keras.utils import np_utils\n",
    "from keras.preprocessing.image import ImageDataGenerator\n",
    "import matplotlib.pyplot as plt \n",
    "import numpy as np\n",
    "from keras import regularizers\n",
    "from keras.datasets import cifar10\n",
    "from keras.optimizers import SGD \n",
    "\n",
    "(x_train,y_train),(x_test,y_test) = cifar10.load_data()\n",
    "\n",
    "print('Shape of training dataset :',x_train.shape)\n",
    "print('Shape of testing dataste :' ,x_test.shape)\n",
    "\n",
    "#formatting the dataset \n",
    "x_train = x_train.astype('float32')\n",
    "x_test = x_test.astype('float32')\n",
    "\n",
    "x_train = x_train/255.\n",
    "x_test = x_test/255.\n",
    "\n",
    "y_train = np_utils.to_categorical(y_train,10)\n",
    "y_test = np_utils.to_categorical(y_test,10)\n"
   ]
  },
  {
   "cell_type": "code",
   "execution_count": 2,
   "metadata": {},
   "outputs": [],
   "source": [
    "current_job_id = '001'\n",
    "checkpoint_name = 'weights.{epoch:02d}-{val_loss:.2f}.hdf5'\n",
    "filepath = 'saved_models/'\n",
    "epochs_n = 100"
   ]
  },
  {
   "cell_type": "code",
   "execution_count": 4,
   "metadata": {
    "colab": {
     "base_uri": "https://localhost:8080/",
     "height": 4050
    },
    "colab_type": "code",
    "id": "QvetEnFuVVcf",
    "outputId": "2101006e-2e97-4995-d67c-99e753c3a8cd"
   },
   "outputs": [],
   "source": [
    "rglrzr = None #regularizers.l2(0.0003)\n",
    "\n",
    "model = Sequential()\n",
    "\n",
    "model.add(Conv2D(64,(3,3),input_shape=[3,32,32],kernel_regularizer=rglrzr,padding='same'))\n",
    "model.add(Activation('relu'))\n",
    "model.add(BatchNormalization())\n",
    "model.add(Dropout(0.2))\n",
    "model.add(Conv2D(64,(3,3),kernel_regularizer=rglrzr,padding='same'))\n",
    "model.add(Activation('relu'))\n",
    "model.add(BatchNormalization())\n",
    "model.add(MaxPooling2D(2,2))\n",
    "\n",
    "model.add(Conv2D(128,(3,3),kernel_regularizer=rglrzr,padding='same'))\n",
    "model.add(Activation('relu'))\n",
    "model.add(BatchNormalization())\n",
    "model.add(Dropout(0.2))\n",
    "model.add(Conv2D(128,(3,3),kernel_regularizer=rglrzr,padding='same'))\n",
    "model.add(Activation('relu'))\n",
    "model.add(BatchNormalization())\n",
    "model.add(MaxPooling2D(2,2))\n",
    "\n",
    "model.add(Conv2D(256,(3,3),kernel_regularizer=rglrzr,padding='same'))\n",
    "model.add(BatchNormalization())\n",
    "model.add(Activation('relu'))\n",
    "model.add(Dropout(0.2))\n",
    "model.add(Conv2D(256,(3,3),kernel_regularizer=rglrzr,padding='same'))\n",
    "model.add(BatchNormalization())\n",
    "model.add(Activation('relu'))\n",
    "model.add(MaxPooling2D(2,2))\n",
    "\n",
    "model.add(Conv2D(512,(3,3),kernel_regularizer=rglrzr,padding='same'))\n",
    "model.add(Activation('relu'))\n",
    "model.add(BatchNormalization())\n",
    "model.add(Dropout(0.2))\n",
    "model.add(Conv2D(512,(3,3),kernel_regularizer=rglrzr,padding='same'))\n",
    "model.add(BatchNormalization())\n",
    "model.add(Activation('relu'))\n",
    "model.add(MaxPooling2D(2,2))\n",
    "\n",
    "model.add(Conv2D(1024,(3,3),kernel_regularizer=rglrzr,padding='same'))\n",
    "model.add(BatchNormalization())\n",
    "model.add(Activation('relu'))\n",
    "model.add(Dropout(0.2))\n",
    "model.add(Conv2D(1024,(3,3),kernel_regularizer=rglrzr,padding='same'))\n",
    "model.add(Activation('relu'))\n",
    "model.add(BatchNormalization())\n",
    "model.add(MaxPooling2D(2,2))\n",
    "model.add(Dropout(0.2))\n",
    "\n",
    "\n",
    "\n",
    "model.add(Flatten())\n",
    "model.add(Dense(512))\n",
    "model.add(Dropout(0.2))\n",
    "model.add(Dense(10,activation='softmax'))\n",
    "\n",
    "\n",
    "sgd = SGD(lr=0.01, decay=1e-6, momentum=0.9)\n",
    "model.compile(loss='categorical_crossentropy',optimizer=sgd, metrics=['accuracy'])\n",
    "datagen = ImageDataGenerator(\n",
    "    featurewise_center=False,\n",
    "    featurewise_std_normalization=False,\n",
    "    rotation_range=20,\n",
    "    width_shift_range=0.2,\n",
    "    height_shift_range=0.2,\n",
    "    horizontal_flip=True,\n",
    "    vertical_flip = False)\n",
    "\n",
    "# compute quantities required for featurewise normalization\n",
    "# (std, mean, and principal components if ZCA whitening is applied)\n",
    "datagen.fit(x_train)\n",
    "\n",
    "\n",
    "\n",
    "#add some callbacks:\n",
    "callbacks = []\n",
    "\n",
    "checkpoint = keras.callbacks.ModelCheckpoint(filepath=filepath+current_job_id+checkpoint_name, monitor='val_loss', verbose=0, save_best_only=False, save_weights_only=False, mode='auto', period=5)\n",
    "reduce_lr = keras.callbacks.ReduceLROnPlateau(monitor='val_loss', factor=0.1, patience=10, verbose=0, mode='auto', min_delta=0.0001, cooldown=0, min_lr=0)\n",
    "early_stopping = keras.callbacks.EarlyStopping(monitor='val_loss', min_delta=0, patience=5, verbose=0, mode='auto', baseline=None, restore_best_weights=True)\n",
    "\n",
    "callbacks.append(checkpoint)\n",
    "callbacks.append(reduce_lr)\n",
    "callbacks.append(early_stopping)"
   ]
  },
  {
   "cell_type": "code",
   "execution_count": 5,
   "metadata": {
    "colab": {},
    "colab_type": "code",
    "id": "cpiV5bVwIyy4",
    "scrolled": false
   },
   "outputs": [
    {
     "name": "stdout",
     "output_type": "stream",
     "text": [
      "Epoch 1/100\n"
     ]
    },
    {
     "name": "stderr",
     "output_type": "stream",
     "text": [
      "/home/shiqidai1002/anaconda3/lib/python3.7/site-packages/mxnet/module/bucketing_module.py:408: UserWarning: Optimizer created manually outside Module but rescale_grad is not normalized to 1.0/batch_size/num_workers (1.0 vs. 0.0078125). Is this intended?\n",
      "  force_init=force_init)\n"
     ]
    },
    {
     "name": "stdout",
     "output_type": "stream",
     "text": [
      "391/391 [==============================] - 27s 68ms/step - loss: 2.6656 - acc: 0.1593 - val_loss: 2.7349 - val_acc: 0.1774\n",
      "Epoch 2/100\n",
      "391/391 [==============================] - 21s 53ms/step - loss: 2.0895 - acc: 0.2393 - val_loss: 1.8901 - val_acc: 0.2819\n",
      "Epoch 3/100\n",
      "391/391 [==============================] - 21s 53ms/step - loss: 1.9997 - acc: 0.2816 - val_loss: 1.8355 - val_acc: 0.3146\n",
      "Epoch 4/100\n",
      "391/391 [==============================] - 21s 53ms/step - loss: 1.9412 - acc: 0.3149 - val_loss: 2.2937 - val_acc: 0.2368\n",
      "Epoch 5/100\n",
      "391/391 [==============================] - 21s 53ms/step - loss: 1.8387 - acc: 0.3512 - val_loss: 2.0583 - val_acc: 0.2761\n",
      "Epoch 6/100\n",
      "391/391 [==============================] - 20s 52ms/step - loss: 1.8366 - acc: 0.3656 - val_loss: 1.6788 - val_acc: 0.3572\n",
      "Epoch 7/100\n",
      "391/391 [==============================] - 20s 52ms/step - loss: 1.7157 - acc: 0.4063 - val_loss: 1.8049 - val_acc: 0.3738\n",
      "Epoch 8/100\n",
      "391/391 [==============================] - 21s 53ms/step - loss: 1.6326 - acc: 0.4373 - val_loss: 1.5395 - val_acc: 0.4410\n",
      "Epoch 9/100\n",
      "391/391 [==============================] - 21s 54ms/step - loss: 1.5307 - acc: 0.4788 - val_loss: 1.5088 - val_acc: 0.4696\n",
      "Epoch 10/100\n",
      "391/391 [==============================] - 21s 53ms/step - loss: 1.4843 - acc: 0.4964 - val_loss: 1.2466 - val_acc: 0.5510\n",
      "Epoch 11/100\n",
      "391/391 [==============================] - 21s 53ms/step - loss: 1.5224 - acc: 0.4911 - val_loss: 1.8243 - val_acc: 0.3843\n",
      "Epoch 12/100\n",
      "391/391 [==============================] - 21s 53ms/step - loss: 1.6265 - acc: 0.4684 - val_loss: 2.2721 - val_acc: 0.2647\n",
      "Epoch 13/100\n",
      "391/391 [==============================] - 21s 53ms/step - loss: 1.5350 - acc: 0.4929 - val_loss: 1.4822 - val_acc: 0.4568\n",
      "Epoch 14/100\n",
      "391/391 [==============================] - 21s 53ms/step - loss: 1.4587 - acc: 0.5253 - val_loss: 1.3974 - val_acc: 0.4922\n",
      "Epoch 15/100\n",
      "391/391 [==============================] - 21s 53ms/step - loss: 1.4741 - acc: 0.5298 - val_loss: 1.5507 - val_acc: 0.4508\n"
     ]
    },
    {
     "data": {
      "image/png": "[encoded data removed]",
      "text/plain": [
       "<Figure size 432x288 with 1 Axes>"
      ]
     },
     "metadata": {
      "needs_background": "light"
     },
     "output_type": "display_data"
    },
    {
     "data": {
      "image/png": "[encoded data removed]",
      "text/plain": [
       "<Figure size 432x288 with 1 Axes>"
      ]
     },
     "metadata": {
      "needs_background": "light"
     },
     "output_type": "display_data"
    }
   ],
   "source": [
    "# fits the model on batches with real-time data augmentation:\n",
    "history = model.fit_generator(datagen.flow(x_train, y_train, batch_size=128), \n",
    "                              epochs=epochs_n,\n",
    "                              validation_data = (x_test,y_test),\n",
    "                              callbacks = callbacks)\n",
    "model.save(filepath + current_job_id)\n",
    "\n",
    "plt.plot(history.history['acc'])\n",
    "plt.plot(history.history['val_acc'])\n",
    "plt.title('model accuracy')\n",
    "plt.ylabel('accuracy')\n",
    "plt.xlabel('epoch')\n",
    "plt.legend(['train', 'test'], loc='upper left')\n",
    "plt.show()\n",
    "# summarize history for loss\n",
    "plt.plot(history.history['loss'])\n",
    "plt.plot(history.history['val_loss'])\n",
    "plt.title('model loss')\n",
    "plt.ylabel('loss')\n",
    "plt.xlabel('epoch')\n",
    "plt.legend(['train', 'test'], loc='upper left')\n",
    "plt.show()"
   ]
  },
  {
   "cell_type": "markdown",
   "metadata": {},
   "source": [
    "the accuracy was raising so slow"
   ]
  }
 ],
 "metadata": {
  "accelerator": "GPU",
  "colab": {
   "collapsed_sections": [],
   "name": "research.ipynb",
   "provenance": [],
   "version": "0.3.2"
  },
  "kernelspec": {
   "display_name": "Python 3",
   "language": "python",
   "name": "python3"
  },
  "language_info": {
   "codemirror_mode": {
    "name": "ipython",
    "version": 3
   },
   "file_extension": ".py",
   "mimetype": "text/x-python",
   "name": "python",
   "nbconvert_exporter": "python",
   "pygments_lexer": "ipython3",
   "version": "3.6.6"
  }
 },
 "nbformat": 4,
 "nbformat_minor": 1
}
