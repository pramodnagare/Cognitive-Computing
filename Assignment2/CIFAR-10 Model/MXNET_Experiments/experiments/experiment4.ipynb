{
 "cells": [
  {
   "cell_type": "code",
   "execution_count": 1,
   "metadata": {
    "colab": {
     "base_uri": "https://localhost:8080/",
     "height": 51
    },
    "colab_type": "code",
    "id": "qERc6CSPSpt0",
    "outputId": "502c253b-f50c-4a98-e1c3-2633a365929b"
   },
   "outputs": [
    {
     "name": "stderr",
     "output_type": "stream",
     "text": [
      "Using MXNet backend\n"
     ]
    },
    {
     "name": "stdout",
     "output_type": "stream",
     "text": [
      "Shape of training dataset : (50000, 3, 32, 32)\n",
      "Shape of testing dataste : (10000, 3, 32, 32)\n"
     ]
    }
   ],
   "source": [
    "import keras \n",
    "from keras.models import Sequential\n",
    "from keras.layers import  Conv2D, MaxPooling2D, Dense, Flatten,Dropout,Activation\n",
    "from keras.layers import BatchNormalization\n",
    "from keras.utils import np_utils\n",
    "from keras.preprocessing.image import ImageDataGenerator\n",
    "import matplotlib.pyplot as plt \n",
    "import numpy as np\n",
    "from keras import regularizers\n",
    "from keras.datasets import cifar10\n",
    "from keras.optimizers import SGD \n",
    "\n",
    "(x_train,y_train),(x_test,y_test) = cifar10.load_data()\n",
    "\n",
    "print('Shape of training dataset :',x_train.shape)\n",
    "print('Shape of testing dataste :' ,x_test.shape)\n",
    "\n",
    "#formatting the dataset \n",
    "x_train = x_train.astype('float32')\n",
    "x_test = x_test.astype('float32')\n",
    "\n",
    "x_train = x_train/255.\n",
    "x_test = x_test/255.\n",
    "\n",
    "y_train = np_utils.to_categorical(y_train,10)\n",
    "y_test = np_utils.to_categorical(y_test,10)\n"
   ]
  },
  {
   "cell_type": "code",
   "execution_count": 2,
   "metadata": {},
   "outputs": [],
   "source": [
    "current_job_id = '004'\n",
    "checkpoint_name = 'weights.{epoch:02d}-{val_loss:.2f}.hdf5'\n",
    "filepath = 'saved_models/'\n",
    "epochs_n = 200"
   ]
  },
  {
   "cell_type": "code",
   "execution_count": 3,
   "metadata": {
    "colab": {
     "base_uri": "https://localhost:8080/",
     "height": 4050
    },
    "colab_type": "code",
    "id": "QvetEnFuVVcf",
    "outputId": "2101006e-2e97-4995-d67c-99e753c3a8cd"
   },
   "outputs": [],
   "source": [
    "rglrzr = None #regularizers.l2(0.0003)\n",
    "drop_out = 0.3\n",
    "\n",
    "model = Sequential()\n",
    "\n",
    "model.add(Conv2D(64,(3,3),input_shape=[3,32,32],kernel_regularizer=rglrzr,padding='same'))\n",
    "model.add(Activation('relu'))\n",
    "model.add(BatchNormalization())\n",
    "model.add(Conv2D(64,(3,3),kernel_regularizer=rglrzr,padding='same'))\n",
    "model.add(Activation('relu'))\n",
    "model.add(BatchNormalization())\n",
    "model.add(MaxPooling2D(2,2))\n",
    "#model.add(Dropout(0.2))\n",
    "\n",
    "model.add(Conv2D(128,(3,3),kernel_regularizer=rglrzr,padding='same'))\n",
    "model.add(Activation('relu'))\n",
    "model.add(BatchNormalization())\n",
    "model.add(Conv2D(128,(3,3),kernel_regularizer=rglrzr,padding='same'))\n",
    "model.add(Activation('relu'))\n",
    "model.add(BatchNormalization())\n",
    "model.add(MaxPooling2D(2,2))\n",
    "model.add(Dropout(0.1))\n",
    "\n",
    "model.add(Conv2D(256,(3,3),kernel_regularizer=rglrzr,padding='same'))\n",
    "model.add(BatchNormalization())\n",
    "model.add(Activation('relu'))\n",
    "model.add(Conv2D(256,(3,3),kernel_regularizer=rglrzr,padding='same'))\n",
    "model.add(BatchNormalization())\n",
    "model.add(Activation('relu'))\n",
    "model.add(MaxPooling2D(2,2))\n",
    "model.add(Dropout(0.1))\n",
    "\n",
    "model.add(Conv2D(512,(3,3),kernel_regularizer=rglrzr,padding='same'))\n",
    "model.add(Activation('relu'))\n",
    "model.add(BatchNormalization())\n",
    "model.add(Conv2D(512,(3,3),kernel_regularizer=rglrzr,padding='same'))\n",
    "model.add(BatchNormalization())\n",
    "model.add(Activation('relu'))\n",
    "model.add(MaxPooling2D(2,2))\n",
    "model.add(Dropout(0.1))\n",
    "\n",
    "model.add(Conv2D(1024,(3,3),kernel_regularizer=rglrzr,padding='same'))\n",
    "model.add(BatchNormalization())\n",
    "model.add(Activation('relu'))\n",
    "model.add(Conv2D(1024,(3,3),kernel_regularizer=rglrzr,padding='same'))\n",
    "model.add(Activation('relu'))\n",
    "model.add(BatchNormalization())\n",
    "model.add(MaxPooling2D(2,2))\n",
    "model.add(Dropout(0.1))\n",
    "\n",
    "\n",
    "\n",
    "model.add(Flatten())\n",
    "model.add(Dense(512))\n",
    "model.add(Activation('relu'))\n",
    "model.add(Dropout(0.1))\n",
    "model.add(Dense(10,activation='softmax'))\n",
    "\n",
    "\n",
    "sgd = SGD(lr=0.015, momentum=0.9)\n",
    "model.compile(loss='categorical_crossentropy',optimizer=sgd, metrics=['accuracy'])\n",
    "datagen = ImageDataGenerator(\n",
    "    featurewise_center=False,\n",
    "    featurewise_std_normalization=False,\n",
    "    rotation_range=20,\n",
    "    width_shift_range=0.2,\n",
    "    height_shift_range=0.2,\n",
    "    horizontal_flip=True,\n",
    "    vertical_flip = False)\n",
    "\n",
    "# compute quantities required for featurewise normalization\n",
    "# (std, mean, and principal components if ZCA whitening is applied)\n",
    "datagen.fit(x_train)\n",
    "\n",
    "\n",
    "\n",
    "#add some callbacks:\n",
    "callbacks = []\n",
    "\n",
    "checkpoint = keras.callbacks.ModelCheckpoint(filepath=filepath+current_job_id+checkpoint_name, monitor='val_loss', verbose=0, save_best_only=False, save_weights_only=False, mode='auto', period=5)\n",
    "reduce_lr = keras.callbacks.ReduceLROnPlateau(monitor='val_loss', factor=0.1, patience=5, verbose=0, mode='auto', min_delta=0.000001, cooldown=0, min_lr=0)\n",
    "early_stopping = keras.callbacks.EarlyStopping(monitor='val_loss', min_delta=0, patience=20, verbose=0, mode='auto', baseline=None, restore_best_weights=True)\n",
    "\n",
    "callbacks.append(checkpoint)\n",
    "callbacks.append(reduce_lr)\n",
    "callbacks.append(early_stopping)"
   ]
  },
  {
   "cell_type": "code",
   "execution_count": 4,
   "metadata": {
    "colab": {},
    "colab_type": "code",
    "id": "cpiV5bVwIyy4"
   },
   "outputs": [
    {
     "name": "stdout",
     "output_type": "stream",
     "text": [
      "Epoch 1/200\n"
     ]
    },
    {
     "name": "stderr",
     "output_type": "stream",
     "text": [
      "/home/shiqidai1002/anaconda3/lib/python3.7/site-packages/mxnet/module/bucketing_module.py:408: UserWarning: Optimizer created manually outside Module but rescale_grad is not normalized to 1.0/batch_size/num_workers (1.0 vs. 0.015625). Is this intended?\n",
      "  force_init=force_init)\n"
     ]
    },
    {
     "name": "stdout",
     "output_type": "stream",
     "text": [
      "782/782 [==============================] - 25s 32ms/step - loss: 2.6963 - acc: 0.1749 - val_loss: 2.3398 - val_acc: 0.1405\n",
      "Epoch 2/200\n",
      "782/782 [==============================] - 21s 26ms/step - loss: 2.2444 - acc: 0.2653 - val_loss: 1.7708 - val_acc: 0.3363\n",
      "Epoch 3/200\n",
      "782/782 [==============================] - 20s 26ms/step - loss: 2.2293 - acc: 0.2942 - val_loss: 2.3515 - val_acc: 0.2173\n",
      "Epoch 4/200\n",
      "782/782 [==============================] - 20s 26ms/step - loss: 2.0965 - acc: 0.3252 - val_loss: 1.8322 - val_acc: 0.3470\n",
      "Epoch 5/200\n",
      "782/782 [==============================] - 20s 26ms/step - loss: 1.9620 - acc: 0.3601 - val_loss: 1.7395 - val_acc: 0.3776\n",
      "Epoch 6/200\n",
      "782/782 [==============================] - 20s 26ms/step - loss: 1.9265 - acc: 0.3754 - val_loss: 14.5038 - val_acc: 0.1000\n",
      "Epoch 7/200\n",
      "782/782 [==============================] - 20s 26ms/step - loss: 1.9197 - acc: 0.3770 - val_loss: 1.9764 - val_acc: 0.2944\n",
      "Epoch 8/200\n",
      "782/782 [==============================] - 20s 25ms/step - loss: 1.9039 - acc: 0.3900 - val_loss: 1.5830 - val_acc: 0.4250\n",
      "Epoch 9/200\n",
      "782/782 [==============================] - 21s 26ms/step - loss: 1.9330 - acc: 0.3880 - val_loss: 1.6200 - val_acc: 0.4428\n",
      "Epoch 10/200\n",
      "782/782 [==============================] - 23s 29ms/step - loss: 1.8376 - acc: 0.4154 - val_loss: 1.5775 - val_acc: 0.4343\n",
      "Epoch 11/200\n",
      "782/782 [==============================] - 22s 28ms/step - loss: 1.8571 - acc: 0.4188 - val_loss: 1.5028 - val_acc: 0.4492\n",
      "Epoch 12/200\n",
      "782/782 [==============================] - 21s 27ms/step - loss: 1.8239 - acc: 0.4317 - val_loss: 1.4285 - val_acc: 0.4769\n",
      "Epoch 13/200\n",
      "782/782 [==============================] - 20s 26ms/step - loss: 1.7350 - acc: 0.4549 - val_loss: 1.4506 - val_acc: 0.5082\n",
      "Epoch 14/200\n",
      "782/782 [==============================] - 21s 26ms/step - loss: 1.7020 - acc: 0.4677 - val_loss: 2.7661 - val_acc: 0.2682\n",
      "Epoch 15/200\n",
      "782/782 [==============================] - 21s 27ms/step - loss: 1.6208 - acc: 0.4795 - val_loss: 1.4857 - val_acc: 0.5329\n",
      "Epoch 16/200\n",
      "782/782 [==============================] - 21s 26ms/step - loss: 1.5730 - acc: 0.4980 - val_loss: 1.6224 - val_acc: 0.4974\n",
      "Epoch 17/200\n",
      "782/782 [==============================] - 21s 26ms/step - loss: 1.5438 - acc: 0.5107 - val_loss: 2.3536 - val_acc: 0.3218\n",
      "Epoch 18/200\n",
      "782/782 [==============================] - 20s 26ms/step - loss: 1.4702 - acc: 0.5367 - val_loss: 1.1570 - val_acc: 0.6107\n",
      "Epoch 19/200\n",
      "782/782 [==============================] - 21s 26ms/step - loss: 1.3998 - acc: 0.5503 - val_loss: 1.2447 - val_acc: 0.6058\n",
      "Epoch 20/200\n",
      "782/782 [==============================] - 20s 26ms/step - loss: 1.3954 - acc: 0.5585 - val_loss: 1.1505 - val_acc: 0.6141\n",
      "Epoch 21/200\n",
      "782/782 [==============================] - 20s 26ms/step - loss: 1.3560 - acc: 0.5639 - val_loss: 1.1556 - val_acc: 0.6186\n",
      "Epoch 22/200\n",
      "782/782 [==============================] - 21s 26ms/step - loss: 1.3692 - acc: 0.5677 - val_loss: 1.2349 - val_acc: 0.5921\n",
      "Epoch 23/200\n",
      "782/782 [==============================] - 21s 26ms/step - loss: 1.3221 - acc: 0.5699 - val_loss: 1.0388 - val_acc: 0.6336\n",
      "Epoch 24/200\n",
      "782/782 [==============================] - 21s 27ms/step - loss: 1.3124 - acc: 0.5788 - val_loss: 1.1267 - val_acc: 0.6217\n",
      "Epoch 25/200\n",
      "782/782 [==============================] - 23s 29ms/step - loss: 1.3055 - acc: 0.5813 - val_loss: 1.4030 - val_acc: 0.5322\n",
      "Epoch 26/200\n",
      "782/782 [==============================] - 21s 27ms/step - loss: 1.3028 - acc: 0.5835 - val_loss: 1.0727 - val_acc: 0.6343\n",
      "Epoch 27/200\n",
      "782/782 [==============================] - 20s 26ms/step - loss: 1.3053 - acc: 0.5781 - val_loss: 1.0834 - val_acc: 0.6193\n",
      "Epoch 28/200\n",
      "782/782 [==============================] - 21s 27ms/step - loss: 1.2780 - acc: 0.5870 - val_loss: 1.0808 - val_acc: 0.6234\n",
      "Epoch 29/200\n",
      "782/782 [==============================] - 21s 27ms/step - loss: 1.2811 - acc: 0.5896 - val_loss: 1.0520 - val_acc: 0.6457\n",
      "Epoch 30/200\n",
      "782/782 [==============================] - 22s 28ms/step - loss: 1.2300 - acc: 0.5959 - val_loss: 1.0484 - val_acc: 0.6418\n",
      "Epoch 31/200\n",
      "782/782 [==============================] - 21s 27ms/step - loss: 1.2234 - acc: 0.5958 - val_loss: 1.0455 - val_acc: 0.6452\n",
      "Epoch 32/200\n",
      "782/782 [==============================] - 21s 27ms/step - loss: 1.2216 - acc: 0.5940 - val_loss: 1.0339 - val_acc: 0.6472\n",
      "Epoch 33/200\n",
      "782/782 [==============================] - 21s 26ms/step - loss: 1.2241 - acc: 0.5949 - val_loss: 1.0445 - val_acc: 0.6430\n",
      "Epoch 34/200\n",
      "782/782 [==============================] - 20s 26ms/step - loss: 1.2150 - acc: 0.5967 - val_loss: 1.0296 - val_acc: 0.6480\n",
      "Epoch 35/200\n",
      "782/782 [==============================] - 21s 27ms/step - loss: 1.2034 - acc: 0.6005 - val_loss: 1.0413 - val_acc: 0.6472\n",
      "Epoch 36/200\n",
      "782/782 [==============================] - 21s 27ms/step - loss: 1.2164 - acc: 0.5948 - val_loss: 1.0463 - val_acc: 0.6453\n",
      "Epoch 37/200\n",
      "782/782 [==============================] - 21s 26ms/step - loss: 1.1997 - acc: 0.5960 - val_loss: 1.0153 - val_acc: 0.6482\n",
      "Epoch 38/200\n",
      "782/782 [==============================] - 20s 26ms/step - loss: 1.2033 - acc: 0.5978 - val_loss: 1.0363 - val_acc: 0.6452\n",
      "Epoch 39/200\n",
      "782/782 [==============================] - 21s 27ms/step - loss: 1.1946 - acc: 0.5990 - val_loss: 1.0362 - val_acc: 0.6484\n",
      "Epoch 40/200\n",
      "782/782 [==============================] - 23s 29ms/step - loss: 1.1924 - acc: 0.6000 - val_loss: 1.0285 - val_acc: 0.6480\n",
      "Epoch 41/200\n",
      "782/782 [==============================] - 22s 28ms/step - loss: 1.1856 - acc: 0.6011 - val_loss: 1.0156 - val_acc: 0.6499\n",
      "Epoch 42/200\n",
      "782/782 [==============================] - 21s 27ms/step - loss: 1.1937 - acc: 0.6016 - val_loss: 1.0239 - val_acc: 0.6510\n",
      "Epoch 43/200\n",
      "782/782 [==============================] - 22s 28ms/step - loss: 1.1870 - acc: 0.6023 - val_loss: 1.0312 - val_acc: 0.6511\n",
      "Epoch 44/200\n",
      "782/782 [==============================] - 22s 27ms/step - loss: 1.1818 - acc: 0.5989 - val_loss: 1.0230 - val_acc: 0.6489\n",
      "Epoch 45/200\n",
      "782/782 [==============================] - 22s 28ms/step - loss: 1.1788 - acc: 0.6031 - val_loss: 1.0365 - val_acc: 0.6496\n",
      "Epoch 46/200\n",
      "782/782 [==============================] - 21s 27ms/step - loss: 1.1842 - acc: 0.6006 - val_loss: 1.0211 - val_acc: 0.6507\n",
      "Epoch 47/200\n",
      "782/782 [==============================] - 21s 27ms/step - loss: 1.1858 - acc: 0.5983 - val_loss: 1.0378 - val_acc: 0.6490\n",
      "Epoch 48/200\n",
      "782/782 [==============================] - 21s 26ms/step - loss: 1.1842 - acc: 0.5993 - val_loss: 1.0328 - val_acc: 0.6486\n",
      "Epoch 49/200\n",
      "782/782 [==============================] - 20s 26ms/step - loss: 1.1834 - acc: 0.5995 - val_loss: 1.0351 - val_acc: 0.6494\n",
      "Epoch 50/200\n",
      "782/782 [==============================] - 20s 26ms/step - loss: 1.1817 - acc: 0.6019 - val_loss: 1.0259 - val_acc: 0.6494\n",
      "Epoch 51/200\n",
      "782/782 [==============================] - 21s 27ms/step - loss: 1.1793 - acc: 0.6014 - val_loss: 1.0246 - val_acc: 0.6504\n",
      "Epoch 52/200\n",
      "782/782 [==============================] - 20s 26ms/step - loss: 1.1778 - acc: 0.5989 - val_loss: 1.0390 - val_acc: 0.6492\n",
      "Epoch 53/200\n",
      "782/782 [==============================] - 20s 26ms/step - loss: 1.1794 - acc: 0.6029 - val_loss: 1.0163 - val_acc: 0.6494\n",
      "Epoch 54/200\n",
      "782/782 [==============================] - 23s 29ms/step - loss: 1.1782 - acc: 0.6006 - val_loss: 1.0363 - val_acc: 0.6501\n",
      "Epoch 55/200\n",
      "782/782 [==============================] - 22s 28ms/step - loss: 1.1809 - acc: 0.6000 - val_loss: 1.0348 - val_acc: 0.6484\n",
      "Epoch 56/200\n",
      "782/782 [==============================] - 22s 28ms/step - loss: 1.1766 - acc: 0.6054 - val_loss: 1.0398 - val_acc: 0.6489\n",
      "Epoch 57/200\n",
      "782/782 [==============================] - 21s 27ms/step - loss: 1.1808 - acc: 0.5990 - val_loss: 1.0273 - val_acc: 0.6489\n"
     ]
    },
    {
     "data": {
      "image/png": "[encoded data removed]",
      "text/plain": [
       "<Figure size 432x288 with 1 Axes>"
      ]
     },
     "metadata": {
      "needs_background": "light"
     },
     "output_type": "display_data"
    },
    {
     "data": {
      "image/png": "[encoded data removed]",
      "text/plain": [
       "<Figure size 432x288 with 1 Axes>"
      ]
     },
     "metadata": {
      "needs_background": "light"
     },
     "output_type": "display_data"
    }
   ],
   "source": [
    "# fits the model on batches with real-time data augmentation:\n",
    "history = model.fit_generator(datagen.flow(x_train, y_train, batch_size=64), \n",
    "                              epochs=epochs_n,\n",
    "                              validation_split=,\n",
    "                              callbacks = callbacks)\n",
    "\n",
    "score = model.evaluate(x=x_test,y=test_y)\n",
    "print('score:' + score)\n",
    "\n",
    "model.save(filepath + current_job_id)\n",
    "\n",
    "plt.plot(history.history['acc'])\n",
    "plt.plot(history.history['val_acc'])\n",
    "plt.title('model accuracy')\n",
    "plt.ylabel('accuracy')\n",
    "plt.xlabel('epoch')\n",
    "plt.legend(['train', 'test'], loc='upper left')\n",
    "plt.show()\n",
    "# summarize history for loss\n",
    "plt.plot(history.history['loss'])\n",
    "plt.plot(history.history['val_loss'])\n",
    "plt.title('model loss')\n",
    "plt.ylabel('loss')\n",
    "plt.xlabel('epoch')\n",
    "plt.legend(['train', 'test'], loc='upper left')\n",
    "plt.show()"
   ]
  }
 ],
 "metadata": {
  "accelerator": "GPU",
  "colab": {
   "collapsed_sections": [],
   "name": "research.ipynb",
   "provenance": [],
   "version": "0.3.2"
  },
  "kernelspec": {
   "display_name": "Python 3",
   "language": "python",
   "name": "python3"
  },
  "language_info": {
   "codemirror_mode": {
    "name": "ipython",
    "version": 3
   },
   "file_extension": ".py",
   "mimetype": "text/x-python",
   "name": "python",
   "nbconvert_exporter": "python",
   "pygments_lexer": "ipython3",
   "version": "3.7.0"
  }
 },
 "nbformat": 4,
 "nbformat_minor": 1
}
