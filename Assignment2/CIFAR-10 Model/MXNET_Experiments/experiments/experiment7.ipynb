{
 "cells": [
  {
   "cell_type": "code",
   "execution_count": 1,
   "metadata": {},
   "outputs": [],
   "source": [
    "current_job_id = '007'\n",
    "checkpoint_name = 'weights.{epoch:02d}-{val_loss:.2f}.hdf5'\n",
    "filepath = 'saved_models/'\n",
    "epochs_n = 200"
   ]
  },
  {
   "cell_type": "code",
   "execution_count": 2,
   "metadata": {
    "colab": {
     "base_uri": "https://localhost:8080/",
     "height": 51
    },
    "colab_type": "code",
    "id": "qERc6CSPSpt0",
    "outputId": "502c253b-f50c-4a98-e1c3-2633a365929b"
   },
   "outputs": [
    {
     "name": "stderr",
     "output_type": "stream",
     "text": [
      "Using MXNet backend\n"
     ]
    },
    {
     "name": "stdout",
     "output_type": "stream",
     "text": [
      "Shape of training dataset : (50000, 3, 32, 32)\n",
      "Shape of testing dataste : (10000, 3, 32, 32)\n"
     ]
    }
   ],
   "source": [
    "import keras \n",
    "from keras.models import Sequential\n",
    "from keras.layers import  Conv2D, MaxPooling2D, Dense, Flatten,Dropout,Activation\n",
    "from keras.layers import BatchNormalization\n",
    "from keras.utils import np_utils\n",
    "from keras.preprocessing.image import ImageDataGenerator\n",
    "import matplotlib.pyplot as plt \n",
    "import numpy as np\n",
    "from keras import regularizers\n",
    "from keras.datasets import cifar10\n",
    "from keras.optimizers import SGD \n",
    "\n",
    "(x_train,y_train),(x_test,y_test) = cifar10.load_data()\n",
    "\n",
    "print('Shape of training dataset :',x_train.shape)\n",
    "print('Shape of testing dataste :' ,x_test.shape)\n",
    "\n",
    "#formatting the dataset \n",
    "x_train = x_train.astype('float32')\n",
    "x_test = x_test.astype('float32')\n",
    "\n",
    "x_train = x_train/255.\n",
    "x_test = x_test/255.\n",
    "\n",
    "y_train = np_utils.to_categorical(y_train,10)\n",
    "y_test = np_utils.to_categorical(y_test,10)\n"
   ]
  },
  {
   "cell_type": "code",
   "execution_count": 3,
   "metadata": {
    "colab": {
     "base_uri": "https://localhost:8080/",
     "height": 4050
    },
    "colab_type": "code",
    "id": "QvetEnFuVVcf",
    "outputId": "2101006e-2e97-4995-d67c-99e753c3a8cd"
   },
   "outputs": [],
   "source": [
    "rglrzr = None #regularizers.l2(0.0003)\n",
    "drop_out = 0.3\n",
    "\n",
    "\n",
    "model = Sequential()\n",
    "model.add(Conv2D(32, (3, 3), padding='same',\n",
    "                 input_shape=x_train.shape[1:]))\n",
    "model.add(Activation('relu'))\n",
    "model.add(BatchNormalization())\n",
    "model.add(Conv2D(32, (3, 3), padding='same'))\n",
    "model.add(Activation('relu'))\n",
    "model.add(BatchNormalization())\n",
    "model.add(MaxPooling2D(pool_size=(2, 2)))\n",
    "model.add(Dropout(0.1))\n",
    " \n",
    "model.add(Conv2D(64, (3, 3), padding='same'))\n",
    "model.add(Activation('relu'))\n",
    "model.add(BatchNormalization())\n",
    "model.add(Conv2D(64, (3, 3), padding='same'))\n",
    "model.add(Activation('relu'))\n",
    "model.add(BatchNormalization())\n",
    "model.add(MaxPooling2D(pool_size=(2, 2)))\n",
    "model.add(Dropout(0.1))\n",
    "\n",
    "model.add(Conv2D(64, (3, 3), padding='same'))\n",
    "model.add(Activation('relu'))\n",
    "model.add(BatchNormalization())\n",
    "model.add(Conv2D(64, (3, 3), padding='same'))\n",
    "model.add(Activation('relu'))\n",
    "model.add(BatchNormalization())\n",
    "model.add(MaxPooling2D(pool_size=(2, 2)))\n",
    "model.add(Dropout(0.1))\n",
    "\n",
    "model.add(Conv2D(64, (3, 3), padding='same'))\n",
    "model.add(Activation('relu'))\n",
    "model.add(BatchNormalization())\n",
    "model.add(Conv2D(64, (3, 3), padding='same'))\n",
    "model.add(Activation('relu'))\n",
    "model.add(BatchNormalization())\n",
    "model.add(MaxPooling2D(pool_size=(2, 2)))\n",
    "model.add(Dropout(0.1))\n",
    "\n",
    "model.add(Conv2D(128, (3, 3), padding='same'))\n",
    "model.add(Activation('relu'))\n",
    "model.add(BatchNormalization())\n",
    "model.add(Conv2D(128, (3, 3), padding='same'))\n",
    "model.add(Activation('relu'))\n",
    "model.add(BatchNormalization())\n",
    "model.add(MaxPooling2D(pool_size=(2, 2)))\n",
    "model.add(Dropout(0.1))\n",
    " \n",
    "\n",
    "model.add(Flatten())\n",
    "model.add(Dense(512))\n",
    "model.add(Activation('relu'))\n",
    "model.add(Dropout(0.2))\n",
    "model.add(Dense(10))\n",
    "model.add(Activation('softmax'))\n",
    "\n",
    "\n",
    "sgd = SGD(lr=0.015, momentum=0.9)\n",
    "model.compile(loss='categorical_crossentropy',optimizer=sgd, metrics=['accuracy'])\n",
    "datagen = ImageDataGenerator(\n",
    "    featurewise_center=False,\n",
    "    featurewise_std_normalization=False,\n",
    "    rotation_range=20,\n",
    "    width_shift_range=0.2,\n",
    "    height_shift_range=0.2,\n",
    "    horizontal_flip=True,\n",
    "    vertical_flip = False,\n",
    "    #validation_split=0.2\n",
    "    )\n",
    "\n",
    "\n",
    "# compute quantities required for featurewise normalization\n",
    "# (std, mean, and principal components if ZCA whitening is applied)\n",
    "datagen.fit(x_train)\n",
    "\n",
    "\n",
    "\n",
    "#add some callbacks:\n",
    "callbacks = []\n",
    "\n",
    "checkpoint = keras.callbacks.ModelCheckpoint(filepath=filepath+current_job_id+checkpoint_name, monitor='val_loss', verbose=0, save_best_only=False, save_weights_only=False, mode='auto', period=5)\n",
    "reduce_lr = keras.callbacks.ReduceLROnPlateau(monitor='val_loss', factor=0.1, patience=5, verbose=0, mode='auto', min_delta=0.000001, cooldown=0, min_lr=0)\n",
    "early_stopping = keras.callbacks.EarlyStopping(monitor='val_loss', min_delta=0, patience=10, verbose=0, mode='auto', baseline=None, restore_best_weights=True)\n",
    "\n",
    "callbacks.append(checkpoint)\n",
    "callbacks.append(reduce_lr)\n",
    "callbacks.append(early_stopping)"
   ]
  },
  {
   "cell_type": "code",
   "execution_count": 4,
   "metadata": {
    "colab": {},
    "colab_type": "code",
    "id": "cpiV5bVwIyy4"
   },
   "outputs": [
    {
     "name": "stdout",
     "output_type": "stream",
     "text": [
      "Epoch 1/200\n"
     ]
    },
    {
     "name": "stderr",
     "output_type": "stream",
     "text": [
      "/home/shiqidai1002/anaconda3/lib/python3.7/site-packages/mxnet/module/bucketing_module.py:408: UserWarning: Optimizer created manually outside Module but rescale_grad is not normalized to 1.0/batch_size/num_workers (1.0 vs. 0.015625). Is this intended?\n",
      "  force_init=force_init)\n"
     ]
    },
    {
     "name": "stdout",
     "output_type": "stream",
     "text": [
      "782/782 [==============================] - 22s 28ms/step - loss: 1.8431 - acc: 0.3103 - val_loss: 1.8779 - val_acc: 0.3294\n",
      "Epoch 2/200\n",
      "782/782 [==============================] - 19s 25ms/step - loss: 1.5243 - acc: 0.4414 - val_loss: 1.7347 - val_acc: 0.4137\n",
      "Epoch 3/200\n",
      "782/782 [==============================] - 19s 25ms/step - loss: 1.3665 - acc: 0.5086 - val_loss: 1.2538 - val_acc: 0.5563\n",
      "Epoch 4/200\n",
      "782/782 [==============================] - 18s 24ms/step - loss: 1.2654 - acc: 0.5517 - val_loss: 1.3107 - val_acc: 0.5485\n",
      "Epoch 5/200\n",
      "782/782 [==============================] - 19s 25ms/step - loss: 1.1718 - acc: 0.5885 - val_loss: 1.5657 - val_acc: 0.4775\n",
      "Epoch 6/200\n",
      "782/782 [==============================] - 20s 25ms/step - loss: 1.1009 - acc: 0.6134 - val_loss: 1.2548 - val_acc: 0.5790\n",
      "Epoch 7/200\n",
      "782/782 [==============================] - 19s 25ms/step - loss: 1.0230 - acc: 0.6442 - val_loss: 1.0963 - val_acc: 0.6281\n",
      "Epoch 8/200\n",
      "782/782 [==============================] - 20s 26ms/step - loss: 0.9691 - acc: 0.6648 - val_loss: 1.4340 - val_acc: 0.5646\n",
      "Epoch 9/200\n",
      "782/782 [==============================] - 21s 27ms/step - loss: 0.9263 - acc: 0.6806 - val_loss: 0.9429 - val_acc: 0.6741\n",
      "Epoch 10/200\n",
      "782/782 [==============================] - 20s 25ms/step - loss: 0.8858 - acc: 0.6933 - val_loss: 0.9199 - val_acc: 0.6914\n",
      "Epoch 11/200\n",
      "782/782 [==============================] - 20s 25ms/step - loss: 0.8439 - acc: 0.7088 - val_loss: 0.8550 - val_acc: 0.7086\n",
      "Epoch 12/200\n",
      "782/782 [==============================] - 20s 25ms/step - loss: 0.8082 - acc: 0.7229 - val_loss: 0.8836 - val_acc: 0.7131\n",
      "Epoch 13/200\n",
      "782/782 [==============================] - 19s 25ms/step - loss: 0.7774 - acc: 0.7326 - val_loss: 0.7411 - val_acc: 0.7482\n",
      "Epoch 14/200\n",
      "782/782 [==============================] - 20s 25ms/step - loss: 0.7587 - acc: 0.7396 - val_loss: 0.8522 - val_acc: 0.7152\n",
      "Epoch 15/200\n",
      "782/782 [==============================] - 20s 25ms/step - loss: 0.7417 - acc: 0.7472 - val_loss: 0.6513 - val_acc: 0.7784\n",
      "Epoch 16/200\n",
      "782/782 [==============================] - 20s 25ms/step - loss: 0.7248 - acc: 0.7526 - val_loss: 0.7013 - val_acc: 0.7677\n",
      "Epoch 17/200\n",
      "782/782 [==============================] - 20s 25ms/step - loss: 0.6989 - acc: 0.7616 - val_loss: 0.6359 - val_acc: 0.7824\n",
      "Epoch 18/200\n",
      "782/782 [==============================] - 19s 25ms/step - loss: 0.6779 - acc: 0.7659 - val_loss: 0.6173 - val_acc: 0.7913\n",
      "Epoch 19/200\n",
      "782/782 [==============================] - 20s 26ms/step - loss: 0.6701 - acc: 0.7736 - val_loss: 0.7590 - val_acc: 0.7403\n",
      "Epoch 20/200\n",
      "782/782 [==============================] - 19s 24ms/step - loss: 0.6592 - acc: 0.7733 - val_loss: 0.5785 - val_acc: 0.8043\n",
      "Epoch 21/200\n",
      "782/782 [==============================] - 19s 25ms/step - loss: 0.6475 - acc: 0.7795 - val_loss: 0.7751 - val_acc: 0.7557\n",
      "Epoch 22/200\n",
      "782/782 [==============================] - 21s 27ms/step - loss: 0.6298 - acc: 0.7849 - val_loss: 0.5963 - val_acc: 0.8007\n",
      "Epoch 23/200\n",
      "782/782 [==============================] - 20s 25ms/step - loss: 0.6268 - acc: 0.7860 - val_loss: 0.5701 - val_acc: 0.8054\n",
      "Epoch 24/200\n",
      "782/782 [==============================] - 20s 25ms/step - loss: 0.6070 - acc: 0.7936 - val_loss: 0.5537 - val_acc: 0.8109\n",
      "Epoch 25/200\n",
      "782/782 [==============================] - 22s 28ms/step - loss: 0.6198 - acc: 0.7889 - val_loss: 0.5963 - val_acc: 0.7977\n",
      "Epoch 26/200\n",
      "782/782 [==============================] - 20s 26ms/step - loss: 0.5892 - acc: 0.7989 - val_loss: 0.5663 - val_acc: 0.8160\n",
      "Epoch 27/200\n",
      "782/782 [==============================] - 20s 26ms/step - loss: 0.5859 - acc: 0.8002 - val_loss: 0.5635 - val_acc: 0.8087\n",
      "Epoch 28/200\n",
      "782/782 [==============================] - 20s 25ms/step - loss: 0.5799 - acc: 0.8032 - val_loss: 0.5730 - val_acc: 0.8170\n",
      "Epoch 29/200\n",
      "782/782 [==============================] - 20s 26ms/step - loss: 0.5690 - acc: 0.8052 - val_loss: 0.5589 - val_acc: 0.8088\n",
      "Epoch 30/200\n",
      "782/782 [==============================] - 19s 25ms/step - loss: 0.5240 - acc: 0.8189 - val_loss: 0.4914 - val_acc: 0.8347\n",
      "Epoch 31/200\n",
      "782/782 [==============================] - 20s 26ms/step - loss: 0.5051 - acc: 0.8271 - val_loss: 0.4798 - val_acc: 0.8381\n",
      "Epoch 32/200\n",
      "782/782 [==============================] - 19s 25ms/step - loss: 0.4988 - acc: 0.8281 - val_loss: 0.5008 - val_acc: 0.8305\n",
      "Epoch 33/200\n",
      "782/782 [==============================] - 19s 25ms/step - loss: 0.4838 - acc: 0.8337 - val_loss: 0.4833 - val_acc: 0.8378\n",
      "Epoch 34/200\n",
      "782/782 [==============================] - 20s 25ms/step - loss: 0.4851 - acc: 0.8321 - val_loss: 0.4754 - val_acc: 0.8404\n",
      "Epoch 35/200\n",
      "782/782 [==============================] - 19s 25ms/step - loss: 0.4847 - acc: 0.8348 - val_loss: 0.4792 - val_acc: 0.8366\n",
      "Epoch 36/200\n",
      "782/782 [==============================] - 20s 25ms/step - loss: 0.4814 - acc: 0.8357 - val_loss: 0.4602 - val_acc: 0.8432\n",
      "Epoch 37/200\n",
      "782/782 [==============================] - 20s 26ms/step - loss: 0.4751 - acc: 0.8356 - val_loss: 0.4827 - val_acc: 0.8365\n",
      "Epoch 38/200\n",
      "782/782 [==============================] - 20s 25ms/step - loss: 0.4732 - acc: 0.8380 - val_loss: 0.4795 - val_acc: 0.8355\n",
      "Epoch 39/200\n",
      "782/782 [==============================] - 21s 26ms/step - loss: 0.4772 - acc: 0.8350 - val_loss: 0.4702 - val_acc: 0.8403\n",
      "Epoch 40/200\n",
      "782/782 [==============================] - 21s 27ms/step - loss: 0.4717 - acc: 0.8389 - val_loss: 0.4687 - val_acc: 0.8391\n",
      "Epoch 41/200\n",
      "782/782 [==============================] - 21s 26ms/step - loss: 0.4704 - acc: 0.8384 - val_loss: 0.4679 - val_acc: 0.8401\n",
      "Epoch 42/200\n",
      "782/782 [==============================] - 20s 26ms/step - loss: 0.4663 - acc: 0.8399 - val_loss: 0.4636 - val_acc: 0.8411\n",
      "Epoch 43/200\n",
      "782/782 [==============================] - 20s 25ms/step - loss: 0.4606 - acc: 0.8422 - val_loss: 0.4620 - val_acc: 0.8423\n",
      "Epoch 44/200\n",
      "782/782 [==============================] - 21s 26ms/step - loss: 0.4604 - acc: 0.8416 - val_loss: 0.4567 - val_acc: 0.8439\n",
      "Epoch 45/200\n",
      "782/782 [==============================] - 20s 26ms/step - loss: 0.4674 - acc: 0.8399 - val_loss: 0.4563 - val_acc: 0.8427\n",
      "Epoch 46/200\n",
      "782/782 [==============================] - 18s 23ms/step - loss: 0.4606 - acc: 0.8436 - val_loss: 0.4577 - val_acc: 0.8433\n",
      "Epoch 47/200\n",
      "782/782 [==============================] - 19s 24ms/step - loss: 0.4604 - acc: 0.8414 - val_loss: 0.4559 - val_acc: 0.8436\n",
      "Epoch 48/200\n",
      "782/782 [==============================] - 19s 25ms/step - loss: 0.4590 - acc: 0.8418 - val_loss: 0.4560 - val_acc: 0.8440\n",
      "Epoch 49/200\n",
      "782/782 [==============================] - 20s 25ms/step - loss: 0.4578 - acc: 0.8431 - val_loss: 0.4566 - val_acc: 0.8446\n",
      "Epoch 50/200\n",
      "782/782 [==============================] - 20s 25ms/step - loss: 0.4625 - acc: 0.8405 - val_loss: 0.4575 - val_acc: 0.8435\n",
      "Epoch 51/200\n",
      "782/782 [==============================] - 20s 25ms/step - loss: 0.4595 - acc: 0.8405 - val_loss: 0.4545 - val_acc: 0.8446\n",
      "Epoch 52/200\n",
      "782/782 [==============================] - 19s 25ms/step - loss: 0.4622 - acc: 0.8410 - val_loss: 0.4555 - val_acc: 0.8453\n",
      "Epoch 53/200\n",
      "782/782 [==============================] - 20s 25ms/step - loss: 0.4597 - acc: 0.8408 - val_loss: 0.4534 - val_acc: 0.8448\n",
      "Epoch 54/200\n",
      "782/782 [==============================] - 20s 26ms/step - loss: 0.4609 - acc: 0.8407 - val_loss: 0.4556 - val_acc: 0.8441\n",
      "Epoch 55/200\n",
      "782/782 [==============================] - 19s 25ms/step - loss: 0.4584 - acc: 0.8417 - val_loss: 0.4582 - val_acc: 0.8422\n",
      "Epoch 56/200\n",
      "782/782 [==============================] - 21s 27ms/step - loss: 0.4606 - acc: 0.8404 - val_loss: 0.4557 - val_acc: 0.8436\n",
      "Epoch 57/200\n",
      "782/782 [==============================] - 20s 26ms/step - loss: 0.4562 - acc: 0.8429 - val_loss: 0.4566 - val_acc: 0.8443\n",
      "Epoch 58/200\n",
      "782/782 [==============================] - 19s 25ms/step - loss: 0.4586 - acc: 0.8427 - val_loss: 0.4568 - val_acc: 0.8438\n",
      "Epoch 59/200\n",
      "782/782 [==============================] - 20s 25ms/step - loss: 0.4568 - acc: 0.8424 - val_loss: 0.4577 - val_acc: 0.8436\n",
      "Epoch 60/200\n",
      "782/782 [==============================] - 19s 24ms/step - loss: 0.4588 - acc: 0.8414 - val_loss: 0.4558 - val_acc: 0.8440\n",
      "Epoch 61/200\n"
     ]
    },
    {
     "name": "stdout",
     "output_type": "stream",
     "text": [
      "782/782 [==============================] - 19s 25ms/step - loss: 0.4604 - acc: 0.8412 - val_loss: 0.4558 - val_acc: 0.8443\n",
      "Epoch 62/200\n",
      "782/782 [==============================] - 19s 25ms/step - loss: 0.4547 - acc: 0.8447 - val_loss: 0.4567 - val_acc: 0.8438\n",
      "Epoch 63/200\n",
      "782/782 [==============================] - 20s 25ms/step - loss: 0.4593 - acc: 0.8415 - val_loss: 0.4557 - val_acc: 0.8441\n",
      "Epoch 64/200\n",
      "782/782 [==============================] - 20s 26ms/step - loss: 0.4610 - acc: 0.8410 - val_loss: 0.4575 - val_acc: 0.8444\n",
      "Epoch 65/200\n",
      "782/782 [==============================] - 20s 25ms/step - loss: 0.4575 - acc: 0.8427 - val_loss: 0.4551 - val_acc: 0.8448\n",
      "Epoch 66/200\n",
      "782/782 [==============================] - 19s 25ms/step - loss: 0.4599 - acc: 0.8410 - val_loss: 0.4545 - val_acc: 0.8450\n",
      "Epoch 67/200\n",
      "782/782 [==============================] - 20s 26ms/step - loss: 0.4580 - acc: 0.8431 - val_loss: 0.4549 - val_acc: 0.8445\n",
      "Epoch 68/200\n",
      "782/782 [==============================] - 20s 26ms/step - loss: 0.4592 - acc: 0.8410 - val_loss: 0.4574 - val_acc: 0.8440\n"
     ]
    }
   ],
   "source": [
    "# fits the model on batches with real-time data augmentation:\n",
    "history = model.fit_generator(datagen.flow(x_train, y_train,\n",
    "                                     batch_size=64), \n",
    "                              epochs=epochs_n,\n",
    "                              validation_data=(x_test,y_test),\n",
    "                              callbacks = callbacks)"
   ]
  },
  {
   "cell_type": "code",
   "execution_count": 5,
   "metadata": {},
   "outputs": [
    {
     "name": "stdout",
     "output_type": "stream",
     "text": [
      "10000/10000 [==============================] - 1s 136us/step\n",
      "[0.4533818997383118, 0.8448]\n"
     ]
    },
    {
     "data": {
      "image/png": "[encoded data removed]",
      "text/plain": [
       "<Figure size 432x288 with 1 Axes>"
      ]
     },
     "metadata": {
      "needs_background": "light"
     },
     "output_type": "display_data"
    },
    {
     "data": {
      "image/png": "[encoded data removed]",
      "text/plain": [
       "<Figure size 432x288 with 1 Axes>"
      ]
     },
     "metadata": {
      "needs_background": "light"
     },
     "output_type": "display_data"
    }
   ],
   "source": [
    "score = model.evaluate(x=x_test,y=y_test)\n",
    "print(score)\n",
    "\n",
    "model.save(filepath + current_job_id)\n",
    "\n",
    "plt.plot(history.history['acc'])\n",
    "plt.plot(history.history['val_acc'])\n",
    "plt.title('model accuracy')\n",
    "plt.ylabel('accuracy')\n",
    "plt.xlabel('epoch')\n",
    "plt.legend(['train', 'test'], loc='upper left')\n",
    "plt.show()\n",
    "# summarize history for loss\n",
    "plt.plot(history.history['loss'])\n",
    "plt.plot(history.history['val_loss'])\n",
    "plt.title('model loss')\n",
    "plt.ylabel('loss')\n",
    "plt.xlabel('epoch')\n",
    "plt.legend(['train', 'test'], loc='upper left')\n",
    "plt.show()"
   ]
  }
 ],
 "metadata": {
  "accelerator": "GPU",
  "colab": {
   "collapsed_sections": [],
   "name": "research.ipynb",
   "provenance": [],
   "version": "0.3.2"
  },
  "kernelspec": {
   "display_name": "Python 3",
   "language": "python",
   "name": "python3"
  },
  "language_info": {
   "codemirror_mode": {
    "name": "ipython",
    "version": 3
   },
   "file_extension": ".py",
   "mimetype": "text/x-python",
   "name": "python",
   "nbconvert_exporter": "python",
   "pygments_lexer": "ipython3",
   "version": "3.7.0"
  }
 },
 "nbformat": 4,
 "nbformat_minor": 1
}
