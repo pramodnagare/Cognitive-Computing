{
 "cells": [
  {
   "cell_type": "code",
   "execution_count": 2,
   "metadata": {},
   "outputs": [],
   "source": [
    "current_job_id = '010'\n",
    "checkpoint_name = 'weights.{epoch:02d}-{val_loss:.2f}.hdf5'\n",
    "filepath = 'saved_models/'\n",
    "epochs_n = 200\n",
    "batch_size = 512"
   ]
  },
  {
   "cell_type": "code",
   "execution_count": 3,
   "metadata": {
    "colab": {
     "base_uri": "https://localhost:8080/",
     "height": 51
    },
    "colab_type": "code",
    "id": "qERc6CSPSpt0",
    "outputId": "502c253b-f50c-4a98-e1c3-2633a365929b"
   },
   "outputs": [
    {
     "name": "stderr",
     "output_type": "stream",
     "text": [
      "Using MXNet backend\n"
     ]
    },
    {
     "name": "stdout",
     "output_type": "stream",
     "text": [
      "Shape of training dataset : (50000, 3, 32, 32)\n",
      "Shape of testing dataste : (10000, 3, 32, 32)\n"
     ]
    }
   ],
   "source": [
    "import keras \n",
    "from keras.models import Sequential\n",
    "from keras.layers import  Conv2D, MaxPooling2D, Dense, Flatten,Dropout,Activation\n",
    "from keras.layers import BatchNormalization\n",
    "from keras.utils import np_utils\n",
    "from keras.preprocessing.image import ImageDataGenerator\n",
    "import matplotlib.pyplot as plt \n",
    "import numpy as np\n",
    "from keras import regularizers\n",
    "from keras.datasets import cifar10\n",
    "from keras.optimizers import SGD \n",
    "\n",
    "(x_train,y_train),(x_test,y_test) = cifar10.load_data()\n",
    "\n",
    "print('Shape of training dataset :',x_train.shape)\n",
    "print('Shape of testing dataste :' ,x_test.shape)\n",
    "\n",
    "#formatting the dataset \n",
    "x_train = x_train.astype('float32')\n",
    "x_test = x_test.astype('float32')\n",
    "\n",
    "x_train = x_train/255.\n",
    "x_test = x_test/255.\n",
    "\n",
    "y_train = np_utils.to_categorical(y_train,10)\n",
    "y_test = np_utils.to_categorical(y_test,10)\n"
   ]
  },
  {
   "cell_type": "code",
   "execution_count": 4,
   "metadata": {
    "colab": {
     "base_uri": "https://localhost:8080/",
     "height": 4050
    },
    "colab_type": "code",
    "id": "QvetEnFuVVcf",
    "outputId": "2101006e-2e97-4995-d67c-99e753c3a8cd"
   },
   "outputs": [],
   "source": [
    "rglrzr = None #regularizers.l2(0.0005)\n",
    "drop_out = 0.3\n",
    "\n",
    "model = Sequential()\n",
    "model.add(Conv2D(64, (3, 3), padding='same',\n",
    "                 input_shape=x_train.shape[1:]))\n",
    "model.add(Activation('relu'))\n",
    "model.add(BatchNormalization())\n",
    "model.add(Conv2D(64, (3, 3), padding='same'))\n",
    "model.add(Activation('relu'))\n",
    "model.add(BatchNormalization())\n",
    "model.add(MaxPooling2D(pool_size=(2, 2)))\n",
    "model.add(Dropout(0.2))\n",
    " \n",
    "model.add(Conv2D(128, (3, 3), padding='same'))\n",
    "model.add(Activation('relu'))\n",
    "model.add(BatchNormalization())\n",
    "model.add(Conv2D(128, (3, 3), padding='same'))\n",
    "model.add(Activation('relu'))\n",
    "model.add(BatchNormalization())\n",
    "model.add(MaxPooling2D(pool_size=(2, 2)))\n",
    "model.add(Dropout(0.2))\n",
    "\n",
    "model.add(Conv2D(256, (3, 3), padding='same'))\n",
    "model.add(Activation('relu'))\n",
    "model.add(BatchNormalization())\n",
    "model.add(Conv2D(256, (3, 3), padding='same'))\n",
    "model.add(Activation('relu'))\n",
    "model.add(BatchNormalization())\n",
    "model.add(MaxPooling2D(pool_size=(2, 2)))\n",
    "model.add(Dropout(0.2))\n",
    "\n",
    "model.add(Conv2D(256, (3, 3), padding='same'))\n",
    "model.add(Activation('relu'))\n",
    "model.add(BatchNormalization())\n",
    "model.add(Conv2D(256, (3, 3), padding='same'))\n",
    "model.add(Activation('relu'))\n",
    "model.add(BatchNormalization())\n",
    "model.add(MaxPooling2D(pool_size=(2, 2)))\n",
    "model.add(Dropout(0.2))\n",
    "\n",
    "model.add(Conv2D(512, (3, 3), padding='same'))\n",
    "model.add(Activation('relu'))\n",
    "model.add(BatchNormalization())\n",
    "model.add(Conv2D(512, (3, 3), padding='same'))\n",
    "model.add(Activation('relu'))\n",
    "model.add(BatchNormalization())\n",
    "model.add(Dropout(0.2))\n",
    "\n",
    "model.add(Conv2D(512, (3, 3), padding='same'))\n",
    "model.add(Activation('relu'))\n",
    "model.add(BatchNormalization())\n",
    "model.add(Conv2D(512, (3, 3), padding='same'))\n",
    "model.add(Activation('relu'))\n",
    "model.add(BatchNormalization())\n",
    "model.add(Dropout(0.2))\n",
    "\n",
    "model.add(Conv2D(512, (3, 3), padding='same'))\n",
    "model.add(Activation('relu'))\n",
    "model.add(BatchNormalization())\n",
    "model.add(Conv2D(512, (3, 3), padding='same'))\n",
    "model.add(Activation('relu'))\n",
    "model.add(BatchNormalization())\n",
    "model.add(MaxPooling2D(pool_size=(2, 2)))\n",
    "model.add(Dropout(0.2))\n",
    "\n",
    "\n",
    "model.add(Flatten())\n",
    "model.add(Dense(512))\n",
    "model.add(Activation('relu'))\n",
    "model.add(Dropout(0.2))\n",
    "model.add(Dense(10))\n",
    "model.add(Activation('softmax'))\n",
    "\n",
    "\n",
    "sgd = SGD(lr=0.015, momentum=0.9)\n",
    "model.compile(loss='categorical_crossentropy',optimizer=sgd, metrics=['accuracy'])\n",
    "datagen = ImageDataGenerator(\n",
    "    featurewise_center=False,\n",
    "    featurewise_std_normalization=False,\n",
    "    rotation_range=20,\n",
    "    width_shift_range=0.2,\n",
    "    height_shift_range=0.2,\n",
    "    horizontal_flip=True,\n",
    "    vertical_flip = False,\n",
    "    #validation_split=0.2\n",
    "    )\n",
    "\n",
    "\n",
    "# compute quantities required for featurewise normalization\n",
    "# (std, mean, and principal components if ZCA whitening is applied)\n",
    "datagen.fit(x_train)\n",
    "\n",
    "\n",
    "\n",
    "#add some callbacks:\n",
    "callbacks = []\n",
    "\n",
    "checkpoint = keras.callbacks.ModelCheckpoint(filepath=filepath+current_job_id+checkpoint_name, monitor='val_loss', verbose=0, save_best_only=False, save_weights_only=False, mode='auto', period=5)\n",
    "reduce_lr = keras.callbacks.ReduceLROnPlateau(monitor='val_loss', factor=0.1, patience=5, verbose=0, mode='auto', min_delta=0.000001, cooldown=0, min_lr=0)\n",
    "early_stopping = keras.callbacks.EarlyStopping(monitor='val_loss', min_delta=0, patience=10, verbose=0, mode='auto', baseline=None, restore_best_weights=True)\n",
    "\n",
    "callbacks.append(checkpoint)\n",
    "callbacks.append(reduce_lr)\n",
    "callbacks.append(early_stopping)"
   ]
  },
  {
   "cell_type": "code",
   "execution_count": 5,
   "metadata": {
    "colab": {},
    "colab_type": "code",
    "id": "cpiV5bVwIyy4"
   },
   "outputs": [
    {
     "name": "stdout",
     "output_type": "stream",
     "text": [
      "Epoch 1/200\n"
     ]
    },
    {
     "name": "stderr",
     "output_type": "stream",
     "text": [
      "/home/shiqidai1002/anaconda3/lib/python3.7/site-packages/mxnet/module/bucketing_module.py:408: UserWarning: Optimizer created manually outside Module but rescale_grad is not normalized to 1.0/batch_size/num_workers (1.0 vs. 0.001953125). Is this intended?\n",
      "  force_init=force_init)\n"
     ]
    },
    {
     "name": "stdout",
     "output_type": "stream",
     "text": [
      "98/98 [==============================] - 20s 209ms/step - loss: 2.2370 - acc: 0.1944 - val_loss: 2.4394 - val_acc: 0.1383\n",
      "Epoch 2/200\n",
      "98/98 [==============================] - 14s 146ms/step - loss: 1.9078 - acc: 0.2711 - val_loss: 2.3972 - val_acc: 0.1559\n",
      "Epoch 3/200\n",
      "98/98 [==============================] - 15s 150ms/step - loss: 1.7725 - acc: 0.3282 - val_loss: 2.1263 - val_acc: 0.2283\n",
      "Epoch 4/200\n",
      "98/98 [==============================] - 15s 150ms/step - loss: 1.6814 - acc: 0.3679 - val_loss: 2.0470 - val_acc: 0.2794\n",
      "Epoch 5/200\n",
      "98/98 [==============================] - 15s 153ms/step - loss: 1.5940 - acc: 0.4020 - val_loss: 1.6404 - val_acc: 0.3946\n",
      "Epoch 6/200\n",
      "98/98 [==============================] - 17s 170ms/step - loss: 1.5106 - acc: 0.4387 - val_loss: 1.9481 - val_acc: 0.3502\n",
      "Epoch 7/200\n",
      "98/98 [==============================] - 15s 154ms/step - loss: 1.4230 - acc: 0.4777 - val_loss: 1.7001 - val_acc: 0.4047\n",
      "Epoch 8/200\n",
      "98/98 [==============================] - 15s 150ms/step - loss: 1.3542 - acc: 0.5038 - val_loss: 1.5958 - val_acc: 0.4274\n",
      "Epoch 9/200\n",
      "98/98 [==============================] - 14s 146ms/step - loss: 1.2805 - acc: 0.5357 - val_loss: 1.3556 - val_acc: 0.5134\n",
      "Epoch 10/200\n",
      "98/98 [==============================] - 14s 144ms/step - loss: 1.2162 - acc: 0.5624 - val_loss: 1.7669 - val_acc: 0.4120\n",
      "Epoch 11/200\n",
      "98/98 [==============================] - 16s 163ms/step - loss: 1.1607 - acc: 0.5849 - val_loss: 1.7112 - val_acc: 0.4198\n",
      "Epoch 12/200\n",
      "98/98 [==============================] - 14s 142ms/step - loss: 1.1115 - acc: 0.6032 - val_loss: 1.0986 - val_acc: 0.6137\n",
      "Epoch 13/200\n",
      "98/98 [==============================] - 15s 148ms/step - loss: 1.0572 - acc: 0.6252 - val_loss: 1.4334 - val_acc: 0.5299\n",
      "Epoch 14/200\n",
      "98/98 [==============================] - 14s 146ms/step - loss: 1.0258 - acc: 0.6380 - val_loss: 1.2658 - val_acc: 0.5795\n",
      "Epoch 15/200\n",
      "98/98 [==============================] - 14s 145ms/step - loss: 0.9674 - acc: 0.6587 - val_loss: 0.9731 - val_acc: 0.6558\n",
      "Epoch 16/200\n",
      "98/98 [==============================] - 14s 145ms/step - loss: 0.9310 - acc: 0.6712 - val_loss: 1.1065 - val_acc: 0.6227\n",
      "Epoch 17/200\n",
      "98/98 [==============================] - 14s 143ms/step - loss: 0.9009 - acc: 0.6856 - val_loss: 0.8692 - val_acc: 0.6989\n",
      "Epoch 18/200\n",
      "98/98 [==============================] - 14s 145ms/step - loss: 0.8637 - acc: 0.6986 - val_loss: 0.9348 - val_acc: 0.6765\n",
      "Epoch 19/200\n",
      "98/98 [==============================] - 15s 153ms/step - loss: 0.8418 - acc: 0.7069 - val_loss: 0.8109 - val_acc: 0.7223\n",
      "Epoch 20/200\n",
      "98/98 [==============================] - 14s 145ms/step - loss: 0.8096 - acc: 0.7191 - val_loss: 0.8536 - val_acc: 0.7103\n",
      "Epoch 21/200\n",
      "98/98 [==============================] - 14s 146ms/step - loss: 0.7771 - acc: 0.7306 - val_loss: 1.0056 - val_acc: 0.6509\n",
      "Epoch 22/200\n",
      "98/98 [==============================] - 14s 146ms/step - loss: 0.7518 - acc: 0.7401 - val_loss: 0.8873 - val_acc: 0.7042\n",
      "Epoch 23/200\n",
      "98/98 [==============================] - 14s 147ms/step - loss: 0.7363 - acc: 0.7483 - val_loss: 0.8984 - val_acc: 0.7084\n",
      "Epoch 24/200\n",
      "98/98 [==============================] - 15s 152ms/step - loss: 0.7080 - acc: 0.7592 - val_loss: 0.7412 - val_acc: 0.7522\n",
      "Epoch 25/200\n",
      "98/98 [==============================] - 14s 146ms/step - loss: 0.6869 - acc: 0.7652 - val_loss: 0.6759 - val_acc: 0.7695\n",
      "Epoch 26/200\n",
      "98/98 [==============================] - 15s 149ms/step - loss: 0.6710 - acc: 0.7698 - val_loss: 0.7737 - val_acc: 0.7428\n",
      "Epoch 27/200\n",
      "98/98 [==============================] - 16s 166ms/step - loss: 0.6474 - acc: 0.7801 - val_loss: 0.6563 - val_acc: 0.7784\n",
      "Epoch 28/200\n",
      "98/98 [==============================] - 15s 150ms/step - loss: 0.6324 - acc: 0.7843 - val_loss: 0.7876 - val_acc: 0.7425\n",
      "Epoch 29/200\n",
      "98/98 [==============================] - 15s 150ms/step - loss: 0.6117 - acc: 0.7913 - val_loss: 0.6654 - val_acc: 0.7803\n",
      "Epoch 30/200\n",
      "98/98 [==============================] - 16s 158ms/step - loss: 0.6044 - acc: 0.7942 - val_loss: 0.6926 - val_acc: 0.7673\n",
      "Epoch 31/200\n",
      "98/98 [==============================] - 15s 153ms/step - loss: 0.5819 - acc: 0.8042 - val_loss: 0.6532 - val_acc: 0.7841\n",
      "Epoch 32/200\n",
      "98/98 [==============================] - 15s 149ms/step - loss: 0.5697 - acc: 0.8070 - val_loss: 0.7319 - val_acc: 0.7628\n",
      "Epoch 33/200\n",
      "98/98 [==============================] - 15s 150ms/step - loss: 0.5666 - acc: 0.8081 - val_loss: 0.6872 - val_acc: 0.7701\n",
      "Epoch 34/200\n",
      "98/98 [==============================] - 15s 151ms/step - loss: 0.5454 - acc: 0.8155 - val_loss: 0.6992 - val_acc: 0.7798\n",
      "Epoch 35/200\n",
      "98/98 [==============================] - 15s 150ms/step - loss: 0.5356 - acc: 0.8176 - val_loss: 0.6348 - val_acc: 0.7919\n",
      "Epoch 36/200\n",
      "98/98 [==============================] - 16s 162ms/step - loss: 0.5174 - acc: 0.8243 - val_loss: 0.5849 - val_acc: 0.8097\n",
      "Epoch 37/200\n",
      "98/98 [==============================] - 15s 151ms/step - loss: 0.5118 - acc: 0.8263 - val_loss: 0.6923 - val_acc: 0.7836\n",
      "Epoch 38/200\n",
      "98/98 [==============================] - 14s 146ms/step - loss: 0.5051 - acc: 0.8287 - val_loss: 0.6428 - val_acc: 0.7936\n",
      "Epoch 39/200\n",
      "98/98 [==============================] - 14s 144ms/step - loss: 0.4909 - acc: 0.8325 - val_loss: 0.5487 - val_acc: 0.8168\n",
      "Epoch 40/200\n",
      "98/98 [==============================] - 15s 148ms/step - loss: 0.4770 - acc: 0.8389 - val_loss: 0.5112 - val_acc: 0.8284\n",
      "Epoch 41/200\n",
      "98/98 [==============================] - 14s 144ms/step - loss: 0.4724 - acc: 0.8414 - val_loss: 0.5865 - val_acc: 0.8048\n",
      "Epoch 42/200\n",
      "98/98 [==============================] - 15s 151ms/step - loss: 0.4662 - acc: 0.8421 - val_loss: 0.6030 - val_acc: 0.8140\n",
      "Epoch 43/200\n",
      "98/98 [==============================] - 15s 150ms/step - loss: 0.4586 - acc: 0.8453 - val_loss: 0.5539 - val_acc: 0.8213\n",
      "Epoch 44/200\n",
      "98/98 [==============================] - 14s 148ms/step - loss: 0.4432 - acc: 0.8516 - val_loss: 0.6341 - val_acc: 0.7994\n",
      "Epoch 45/200\n",
      "98/98 [==============================] - 14s 146ms/step - loss: 0.4396 - acc: 0.8514 - val_loss: 0.6334 - val_acc: 0.8004\n",
      "Epoch 46/200\n",
      "98/98 [==============================] - 14s 146ms/step - loss: 0.4175 - acc: 0.8588 - val_loss: 0.4543 - val_acc: 0.8504\n",
      "Epoch 47/200\n",
      "98/98 [==============================] - 15s 150ms/step - loss: 0.3812 - acc: 0.8719 - val_loss: 0.4557 - val_acc: 0.8495\n",
      "Epoch 48/200\n",
      "98/98 [==============================] - 17s 176ms/step - loss: 0.3705 - acc: 0.8731 - val_loss: 0.4582 - val_acc: 0.8503\n",
      "Epoch 49/200\n",
      "98/98 [==============================] - 15s 153ms/step - loss: 0.3621 - acc: 0.8775 - val_loss: 0.4395 - val_acc: 0.8567\n",
      "Epoch 50/200\n",
      "98/98 [==============================] - 15s 150ms/step - loss: 0.3632 - acc: 0.8767 - val_loss: 0.4512 - val_acc: 0.8549\n",
      "Epoch 51/200\n",
      "98/98 [==============================] - 15s 150ms/step - loss: 0.3549 - acc: 0.8786 - val_loss: 0.4520 - val_acc: 0.8544\n",
      "Epoch 52/200\n",
      "98/98 [==============================] - 15s 150ms/step - loss: 0.3540 - acc: 0.8789 - val_loss: 0.4377 - val_acc: 0.8567\n",
      "Epoch 53/200\n",
      "98/98 [==============================] - 15s 149ms/step - loss: 0.3471 - acc: 0.8811 - val_loss: 0.4468 - val_acc: 0.8557\n",
      "Epoch 54/200\n",
      "98/98 [==============================] - 15s 150ms/step - loss: 0.3475 - acc: 0.8808 - val_loss: 0.4482 - val_acc: 0.8557\n",
      "Epoch 55/200\n",
      "98/98 [==============================] - 14s 144ms/step - loss: 0.3468 - acc: 0.8821 - val_loss: 0.4476 - val_acc: 0.8526\n",
      "Epoch 56/200\n",
      "98/98 [==============================] - 14s 148ms/step - loss: 0.3419 - acc: 0.8837 - val_loss: 0.4207 - val_acc: 0.8634\n",
      "Epoch 57/200\n",
      "98/98 [==============================] - 15s 154ms/step - loss: 0.3348 - acc: 0.8863 - val_loss: 0.4446 - val_acc: 0.8552\n",
      "Epoch 58/200\n",
      "98/98 [==============================] - 15s 153ms/step - loss: 0.3350 - acc: 0.8868 - val_loss: 0.4431 - val_acc: 0.8560\n",
      "Epoch 59/200\n",
      "98/98 [==============================] - 15s 149ms/step - loss: 0.3404 - acc: 0.8834 - val_loss: 0.4423 - val_acc: 0.8567\n",
      "Epoch 60/200\n",
      "98/98 [==============================] - 14s 144ms/step - loss: 0.3366 - acc: 0.8848 - val_loss: 0.4449 - val_acc: 0.8579\n",
      "Epoch 61/200\n",
      "98/98 [==============================] - 14s 144ms/step - loss: 0.3330 - acc: 0.8869 - val_loss: 0.4355 - val_acc: 0.8568\n"
     ]
    },
    {
     "name": "stdout",
     "output_type": "stream",
     "text": [
      "Epoch 62/200\n",
      "98/98 [==============================] - 15s 149ms/step - loss: 0.3249 - acc: 0.8902 - val_loss: 0.4301 - val_acc: 0.8590\n",
      "Epoch 63/200\n",
      "98/98 [==============================] - 15s 149ms/step - loss: 0.3265 - acc: 0.8896 - val_loss: 0.4349 - val_acc: 0.8595\n",
      "Epoch 64/200\n",
      "98/98 [==============================] - 14s 148ms/step - loss: 0.3296 - acc: 0.8881 - val_loss: 0.4298 - val_acc: 0.8597\n",
      "Epoch 65/200\n",
      "98/98 [==============================] - 14s 147ms/step - loss: 0.3250 - acc: 0.8895 - val_loss: 0.4312 - val_acc: 0.8601\n",
      "Epoch 66/200\n",
      "98/98 [==============================] - 15s 150ms/step - loss: 0.3240 - acc: 0.8889 - val_loss: 0.4288 - val_acc: 0.8609\n"
     ]
    }
   ],
   "source": [
    "# fits the model on batches with real-time data augmentation:\n",
    "history = model.fit_generator(datagen.flow(x_train, y_train,\n",
    "                                     batch_size=batch_size), \n",
    "                              epochs=epochs_n,\n",
    "                              validation_data=(x_test,y_test),\n",
    "                              callbacks = callbacks)"
   ]
  },
  {
   "cell_type": "code",
   "execution_count": 6,
   "metadata": {},
   "outputs": [
    {
     "name": "stdout",
     "output_type": "stream",
     "text": [
      "10000/10000 [==============================] - 3s 347us/step\n",
      "[0.4207360068321228, 0.8634]\n"
     ]
    },
    {
     "data": {
      "image/png": "[encoded data removed]",
      "text/plain": [
       "<Figure size 432x288 with 1 Axes>"
      ]
     },
     "metadata": {
      "needs_background": "light"
     },
     "output_type": "display_data"
    },
    {
     "data": {
      "image/png": "[encoded data removed]",
      "text/plain": [
       "<Figure size 432x288 with 1 Axes>"
      ]
     },
     "metadata": {
      "needs_background": "light"
     },
     "output_type": "display_data"
    }
   ],
   "source": [
    "score = model.evaluate(x=x_test,y=y_test)\n",
    "print(score)\n",
    "\n",
    "model.save(filepath + current_job_id)\n",
    "\n",
    "plt.plot(history.history['acc'])\n",
    "plt.plot(history.history['val_acc'])\n",
    "plt.title('model accuracy')\n",
    "plt.ylabel('accuracy')\n",
    "plt.xlabel('epoch')\n",
    "plt.legend(['train', 'test'], loc='upper left')\n",
    "plt.show()\n",
    "# summarize history for loss\n",
    "plt.plot(history.history['loss'])\n",
    "plt.plot(history.history['val_loss'])\n",
    "plt.title('model loss')\n",
    "plt.ylabel('loss')\n",
    "plt.xlabel('epoch')\n",
    "plt.legend(['train', 'test'], loc='upper left')\n",
    "plt.show()"
   ]
  }
 ],
 "metadata": {
  "accelerator": "GPU",
  "colab": {
   "collapsed_sections": [],
   "name": "research.ipynb",
   "provenance": [],
   "version": "0.3.2"
  },
  "kernelspec": {
   "display_name": "Python 3",
   "language": "python",
   "name": "python3"
  },
  "language_info": {
   "codemirror_mode": {
    "name": "ipython",
    "version": 3
   },
   "file_extension": ".py",
   "mimetype": "text/x-python",
   "name": "python",
   "nbconvert_exporter": "python",
   "pygments_lexer": "ipython3",
   "version": "3.7.0"
  }
 },
 "nbformat": 4,
 "nbformat_minor": 1
}
