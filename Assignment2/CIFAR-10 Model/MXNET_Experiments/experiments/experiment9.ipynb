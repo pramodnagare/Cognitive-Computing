{
 "cells": [
  {
   "cell_type": "code",
   "execution_count": 1,
   "metadata": {},
   "outputs": [],
   "source": [
    "current_job_id = '009'\n",
    "checkpoint_name = 'weights.{epoch:02d}-{val_loss:.2f}.hdf5'\n",
    "filepath = 'saved_models/'\n",
    "epochs_n = 200\n",
    "batch_size = 512"
   ]
  },
  {
   "cell_type": "code",
   "execution_count": 2,
   "metadata": {
    "colab": {
     "base_uri": "https://localhost:8080/",
     "height": 51
    },
    "colab_type": "code",
    "id": "qERc6CSPSpt0",
    "outputId": "502c253b-f50c-4a98-e1c3-2633a365929b"
   },
   "outputs": [
    {
     "name": "stderr",
     "output_type": "stream",
     "text": [
      "Using MXNet backend\n"
     ]
    },
    {
     "name": "stdout",
     "output_type": "stream",
     "text": [
      "Shape of training dataset : (50000, 3, 32, 32)\n",
      "Shape of testing dataste : (10000, 3, 32, 32)\n"
     ]
    }
   ],
   "source": [
    "import keras \n",
    "from keras.models import Sequential\n",
    "from keras.layers import  Conv2D, MaxPooling2D, Dense, Flatten,Dropout,Activation\n",
    "from keras.layers import BatchNormalization\n",
    "from keras.utils import np_utils\n",
    "from keras.preprocessing.image import ImageDataGenerator\n",
    "import matplotlib.pyplot as plt \n",
    "import numpy as np\n",
    "from keras import regularizers\n",
    "from keras.datasets import cifar10\n",
    "from keras.optimizers import SGD \n",
    "\n",
    "(x_train,y_train),(x_test,y_test) = cifar10.load_data()\n",
    "\n",
    "print('Shape of training dataset :',x_train.shape)\n",
    "print('Shape of testing dataste :' ,x_test.shape)\n",
    "\n",
    "#formatting the dataset \n",
    "x_train = x_train.astype('float32')\n",
    "x_test = x_test.astype('float32')\n",
    "\n",
    "x_train = x_train/255.\n",
    "x_test = x_test/255.\n",
    "\n",
    "y_train = np_utils.to_categorical(y_train,10)\n",
    "y_test = np_utils.to_categorical(y_test,10)\n"
   ]
  },
  {
   "cell_type": "code",
   "execution_count": 3,
   "metadata": {
    "colab": {
     "base_uri": "https://localhost:8080/",
     "height": 4050
    },
    "colab_type": "code",
    "id": "QvetEnFuVVcf",
    "outputId": "2101006e-2e97-4995-d67c-99e753c3a8cd"
   },
   "outputs": [],
   "source": [
    "rglrzr = None #regularizers.l2(0.0003)\n",
    "drop_out = 0.3\n",
    "\n",
    "model = Sequential()\n",
    "model.add(Conv2D(64, (3, 3), padding='same',\n",
    "                 input_shape=x_train.shape[1:]))\n",
    "model.add(Activation('relu'))\n",
    "model.add(BatchNormalization())\n",
    "model.add(Conv2D(64, (3, 3), padding='same'))\n",
    "model.add(Activation('relu'))\n",
    "model.add(BatchNormalization())\n",
    "model.add(MaxPooling2D(pool_size=(2, 2)))\n",
    "model.add(Dropout(0.2))\n",
    " \n",
    "model.add(Conv2D(128, (3, 3), padding='same'))\n",
    "model.add(Activation('relu'))\n",
    "model.add(BatchNormalization())\n",
    "model.add(Conv2D(128, (3, 3), padding='same'))\n",
    "model.add(Activation('relu'))\n",
    "model.add(BatchNormalization())\n",
    "model.add(MaxPooling2D(pool_size=(2, 2)))\n",
    "model.add(Dropout(0.2))\n",
    "\n",
    "model.add(Conv2D(256, (3, 3), padding='same'))\n",
    "model.add(Activation('relu'))\n",
    "model.add(BatchNormalization())\n",
    "model.add(Conv2D(256, (3, 3), padding='same'))\n",
    "model.add(Activation('relu'))\n",
    "model.add(BatchNormalization())\n",
    "model.add(MaxPooling2D(pool_size=(2, 2)))\n",
    "model.add(Dropout(0.2))\n",
    "\n",
    "model.add(Conv2D(256, (3, 3), padding='same'))\n",
    "model.add(Activation('relu'))\n",
    "model.add(BatchNormalization())\n",
    "model.add(Conv2D(256, (3, 3), padding='same'))\n",
    "model.add(Activation('relu'))\n",
    "model.add(BatchNormalization())\n",
    "model.add(MaxPooling2D(pool_size=(2, 2)))\n",
    "model.add(Dropout(0.1))\n",
    "\n",
    "model.add(Conv2D(512, (3, 3), padding='same'))\n",
    "model.add(Activation('relu'))\n",
    "model.add(BatchNormalization())\n",
    "model.add(Conv2D(512, (3, 3), padding='same'))\n",
    "model.add(Activation('relu'))\n",
    "model.add(BatchNormalization())\n",
    "model.add(Dropout(0.1))\n",
    "\n",
    "model.add(Conv2D(512, (3, 3), padding='same'))\n",
    "model.add(Activation('relu'))\n",
    "model.add(BatchNormalization())\n",
    "model.add(Conv2D(512, (3, 3), padding='same'))\n",
    "model.add(Activation('relu'))\n",
    "model.add(BatchNormalization())\n",
    "model.add(Dropout(0.1))\n",
    "\n",
    "model.add(Conv2D(512, (3, 3), padding='same'))\n",
    "model.add(Activation('relu'))\n",
    "model.add(BatchNormalization())\n",
    "model.add(Conv2D(512, (3, 3), padding='same'))\n",
    "model.add(Activation('relu'))\n",
    "model.add(BatchNormalization())\n",
    "model.add(MaxPooling2D(pool_size=(2, 2)))\n",
    "model.add(Dropout(0.1))\n",
    "\n",
    "\n",
    "model.add(Flatten())\n",
    "model.add(Dense(512))\n",
    "model.add(Activation('relu'))\n",
    "model.add(Dropout(0.1))\n",
    "model.add(Dense(10))\n",
    "model.add(Activation('softmax'))\n",
    "\n",
    "\n",
    "sgd = SGD(lr=0.015, momentum=0.9)\n",
    "model.compile(loss='categorical_crossentropy',optimizer=sgd, metrics=['accuracy'])\n",
    "datagen = ImageDataGenerator(\n",
    "    featurewise_center=False,\n",
    "    featurewise_std_normalization=False,\n",
    "    rotation_range=20,\n",
    "    width_shift_range=0.2,\n",
    "    height_shift_range=0.2,\n",
    "    horizontal_flip=True,\n",
    "    vertical_flip = False,\n",
    "    #validation_split=0.2\n",
    "    )\n",
    "\n",
    "\n",
    "# compute quantities required for featurewise normalization\n",
    "# (std, mean, and principal components if ZCA whitening is applied)\n",
    "datagen.fit(x_train)\n",
    "\n",
    "\n",
    "\n",
    "#add some callbacks:\n",
    "callbacks = []\n",
    "\n",
    "checkpoint = keras.callbacks.ModelCheckpoint(filepath=filepath+current_job_id+checkpoint_name, monitor='val_loss', verbose=0, save_best_only=False, save_weights_only=False, mode='auto', period=5)\n",
    "reduce_lr = keras.callbacks.ReduceLROnPlateau(monitor='val_loss', factor=0.1, patience=5, verbose=0, mode='auto', min_delta=0.000001, cooldown=0, min_lr=0)\n",
    "early_stopping = keras.callbacks.EarlyStopping(monitor='val_loss', min_delta=0, patience=10, verbose=0, mode='auto', baseline=None, restore_best_weights=True)\n",
    "\n",
    "callbacks.append(checkpoint)\n",
    "callbacks.append(reduce_lr)\n",
    "callbacks.append(early_stopping)"
   ]
  },
  {
   "cell_type": "code",
   "execution_count": 4,
   "metadata": {
    "colab": {},
    "colab_type": "code",
    "id": "cpiV5bVwIyy4"
   },
   "outputs": [
    {
     "name": "stdout",
     "output_type": "stream",
     "text": [
      "Epoch 1/200\n"
     ]
    },
    {
     "name": "stderr",
     "output_type": "stream",
     "text": [
      "/home/shiqidai1002/anaconda3/lib/python3.7/site-packages/mxnet/module/bucketing_module.py:408: UserWarning: Optimizer created manually outside Module but rescale_grad is not normalized to 1.0/batch_size/num_workers (1.0 vs. 0.001953125). Is this intended?\n",
      "  force_init=force_init)\n"
     ]
    },
    {
     "name": "stdout",
     "output_type": "stream",
     "text": [
      "98/98 [==============================] - 21s 210ms/step - loss: 2.4339 - acc: 0.1487 - val_loss: 3.1084 - val_acc: 0.1013\n",
      "Epoch 2/200\n",
      "98/98 [==============================] - 14s 140ms/step - loss: 1.9821 - acc: 0.2382 - val_loss: 2.2517 - val_acc: 0.1573\n",
      "Epoch 3/200\n",
      "98/98 [==============================] - 15s 151ms/step - loss: 1.8523 - acc: 0.2856 - val_loss: 2.0179 - val_acc: 0.2328\n",
      "Epoch 4/200\n",
      "98/98 [==============================] - 14s 143ms/step - loss: 1.7847 - acc: 0.3173 - val_loss: 2.0186 - val_acc: 0.2290\n",
      "Epoch 5/200\n",
      "98/98 [==============================] - 14s 145ms/step - loss: 1.7185 - acc: 0.3503 - val_loss: 1.7407 - val_acc: 0.3639\n",
      "Epoch 6/200\n",
      "98/98 [==============================] - 14s 143ms/step - loss: 1.6226 - acc: 0.3894 - val_loss: 2.5941 - val_acc: 0.2042\n",
      "Epoch 7/200\n",
      "98/98 [==============================] - 14s 144ms/step - loss: 1.5172 - acc: 0.4336 - val_loss: 1.6783 - val_acc: 0.3891\n",
      "Epoch 8/200\n",
      "98/98 [==============================] - 14s 145ms/step - loss: 1.4406 - acc: 0.4656 - val_loss: 1.8847 - val_acc: 0.3643\n",
      "Epoch 9/200\n",
      "98/98 [==============================] - 15s 155ms/step - loss: 1.3465 - acc: 0.5080 - val_loss: 1.5517 - val_acc: 0.4446\n",
      "Epoch 10/200\n",
      "98/98 [==============================] - 14s 143ms/step - loss: 1.2622 - acc: 0.5419 - val_loss: 1.2335 - val_acc: 0.5466\n",
      "Epoch 11/200\n",
      "98/98 [==============================] - 14s 142ms/step - loss: 1.2044 - acc: 0.5692 - val_loss: 1.3735 - val_acc: 0.4948\n",
      "Epoch 12/200\n",
      "98/98 [==============================] - 14s 144ms/step - loss: 1.1370 - acc: 0.5939 - val_loss: 1.4082 - val_acc: 0.5408\n",
      "Epoch 13/200\n",
      "98/98 [==============================] - 17s 169ms/step - loss: 1.0799 - acc: 0.6181 - val_loss: 1.2120 - val_acc: 0.5682\n",
      "Epoch 14/200\n",
      "98/98 [==============================] - 15s 150ms/step - loss: 1.0299 - acc: 0.6356 - val_loss: 1.0910 - val_acc: 0.6225\n",
      "Epoch 15/200\n",
      "98/98 [==============================] - 14s 144ms/step - loss: 0.9714 - acc: 0.6552 - val_loss: 1.3724 - val_acc: 0.5706\n",
      "Epoch 16/200\n",
      "98/98 [==============================] - 14s 146ms/step - loss: 0.9352 - acc: 0.6724 - val_loss: 1.2950 - val_acc: 0.5709\n",
      "Epoch 17/200\n",
      "98/98 [==============================] - 14s 145ms/step - loss: 0.8840 - acc: 0.6898 - val_loss: 1.0230 - val_acc: 0.6536\n",
      "Epoch 18/200\n",
      "98/98 [==============================] - 14s 145ms/step - loss: 0.8364 - acc: 0.7069 - val_loss: 0.9005 - val_acc: 0.6869\n",
      "Epoch 19/200\n",
      "98/98 [==============================] - 14s 146ms/step - loss: 0.7999 - acc: 0.7219 - val_loss: 1.1138 - val_acc: 0.6406\n",
      "Epoch 20/200\n",
      "98/98 [==============================] - 14s 143ms/step - loss: 0.7694 - acc: 0.7303 - val_loss: 0.8539 - val_acc: 0.7120\n",
      "Epoch 21/200\n",
      "98/98 [==============================] - 14s 144ms/step - loss: 0.7343 - acc: 0.7457 - val_loss: 0.8877 - val_acc: 0.6995\n",
      "Epoch 22/200\n",
      "98/98 [==============================] - 14s 143ms/step - loss: 0.7122 - acc: 0.7540 - val_loss: 0.7713 - val_acc: 0.7403\n",
      "Epoch 23/200\n",
      "98/98 [==============================] - 14s 145ms/step - loss: 0.6852 - acc: 0.7651 - val_loss: 0.6664 - val_acc: 0.7752\n",
      "Epoch 24/200\n",
      "98/98 [==============================] - 14s 144ms/step - loss: 0.6611 - acc: 0.7740 - val_loss: 0.7219 - val_acc: 0.7591\n",
      "Epoch 25/200\n",
      "98/98 [==============================] - 15s 155ms/step - loss: 0.6385 - acc: 0.7804 - val_loss: 0.6828 - val_acc: 0.7679\n",
      "Epoch 26/200\n",
      "98/98 [==============================] - 14s 147ms/step - loss: 0.6158 - acc: 0.7901 - val_loss: 0.7534 - val_acc: 0.7524\n",
      "Epoch 27/200\n",
      "98/98 [==============================] - 14s 148ms/step - loss: 0.6020 - acc: 0.7937 - val_loss: 0.6508 - val_acc: 0.7855\n",
      "Epoch 28/200\n",
      "98/98 [==============================] - 15s 153ms/step - loss: 0.5817 - acc: 0.8014 - val_loss: 0.6426 - val_acc: 0.7902\n",
      "Epoch 29/200\n",
      "98/98 [==============================] - 15s 151ms/step - loss: 0.5665 - acc: 0.8047 - val_loss: 0.6445 - val_acc: 0.7866\n",
      "Epoch 30/200\n",
      "98/98 [==============================] - 15s 151ms/step - loss: 0.5421 - acc: 0.8130 - val_loss: 0.7260 - val_acc: 0.7707\n",
      "Epoch 31/200\n",
      "98/98 [==============================] - 14s 142ms/step - loss: 0.5396 - acc: 0.8168 - val_loss: 0.5744 - val_acc: 0.8078\n",
      "Epoch 32/200\n",
      "98/98 [==============================] - 14s 148ms/step - loss: 0.4442 - acc: 0.8481 - val_loss: 0.4834 - val_acc: 0.8397\n",
      "Epoch 40/200\n",
      "98/98 [==============================] - 15s 153ms/step - loss: 0.4332 - acc: 0.8509 - val_loss: 0.5610 - val_acc: 0.8199\n",
      "Epoch 41/200\n",
      "98/98 [==============================] - 14s 147ms/step - loss: 0.4248 - acc: 0.8557 - val_loss: 0.4794 - val_acc: 0.8447\n",
      "Epoch 42/200\n",
      "98/98 [==============================] - 14s 146ms/step - loss: 0.4150 - acc: 0.8577 - val_loss: 0.5838 - val_acc: 0.8129\n",
      "Epoch 43/200\n",
      "98/98 [==============================] - 15s 148ms/step - loss: 0.4077 - acc: 0.8602 - val_loss: 0.5447 - val_acc: 0.8250\n",
      "Epoch 44/200\n",
      "98/98 [==============================] - 15s 149ms/step - loss: 0.3779 - acc: 0.8709 - val_loss: 0.4220 - val_acc: 0.8609\n",
      "Epoch 45/200\n",
      "98/98 [==============================] - 14s 145ms/step - loss: 0.3442 - acc: 0.8807 - val_loss: 0.4180 - val_acc: 0.8654\n",
      "Epoch 46/200\n",
      "98/98 [==============================] - 14s 146ms/step - loss: 0.3316 - acc: 0.8866 - val_loss: 0.4106 - val_acc: 0.8679\n",
      "Epoch 47/200\n",
      "98/98 [==============================] - 14s 145ms/step - loss: 0.3270 - acc: 0.8871 - val_loss: 0.4111 - val_acc: 0.8666\n",
      "Epoch 48/200\n",
      "98/98 [==============================] - 15s 151ms/step - loss: 0.3201 - acc: 0.8910 - val_loss: 0.4329 - val_acc: 0.8607\n",
      "Epoch 49/200\n",
      "98/98 [==============================] - 15s 150ms/step - loss: 0.3147 - acc: 0.8918 - val_loss: 0.4179 - val_acc: 0.8676\n",
      "Epoch 50/200\n",
      "98/98 [==============================] - 14s 147ms/step - loss: 0.3130 - acc: 0.8908 - val_loss: 0.4106 - val_acc: 0.8675\n",
      "Epoch 51/200\n",
      "98/98 [==============================] - 14s 146ms/step - loss: 0.3138 - acc: 0.8917 - val_loss: 0.4113 - val_acc: 0.8687\n",
      "Epoch 52/200\n",
      "98/98 [==============================] - 16s 162ms/step - loss: 0.3098 - acc: 0.8943 - val_loss: 0.4190 - val_acc: 0.8667\n",
      "Epoch 53/200\n",
      "98/98 [==============================] - 14s 140ms/step - loss: 0.3061 - acc: 0.8955 - val_loss: 0.4055 - val_acc: 0.8682\n",
      "Epoch 54/200\n",
      "98/98 [==============================] - 15s 150ms/step - loss: 0.3046 - acc: 0.8952 - val_loss: 0.4102 - val_acc: 0.8699\n",
      "Epoch 55/200\n",
      "98/98 [==============================] - 16s 160ms/step - loss: 0.3025 - acc: 0.8974 - val_loss: 0.4190 - val_acc: 0.8690\n",
      "Epoch 56/200\n",
      "98/98 [==============================] - 15s 157ms/step - loss: 0.3037 - acc: 0.8968 - val_loss: 0.3987 - val_acc: 0.8700\n",
      "Epoch 57/200\n",
      "98/98 [==============================] - 14s 144ms/step - loss: 0.2979 - acc: 0.8968 - val_loss: 0.4037 - val_acc: 0.8721\n",
      "Epoch 58/200\n",
      "98/98 [==============================] - 15s 150ms/step - loss: 0.2928 - acc: 0.9004 - val_loss: 0.4082 - val_acc: 0.8709\n",
      "Epoch 59/200\n",
      "98/98 [==============================] - 15s 149ms/step - loss: 0.3010 - acc: 0.8979 - val_loss: 0.4149 - val_acc: 0.8676\n",
      "Epoch 60/200\n",
      "98/98 [==============================] - 14s 143ms/step - loss: 0.2983 - acc: 0.8977 - val_loss: 0.4013 - val_acc: 0.8750\n",
      "Epoch 61/200\n",
      "98/98 [==============================] - 14s 143ms/step - loss: 0.2964 - acc: 0.8974 - val_loss: 0.4078 - val_acc: 0.8715\n",
      "Epoch 62/200\n",
      "98/98 [==============================] - 14s 146ms/step - loss: 0.2907 - acc: 0.8993 - val_loss: 0.4026 - val_acc: 0.8719\n",
      "Epoch 63/200\n",
      "98/98 [==============================] - 15s 151ms/step - loss: 0.2903 - acc: 0.8995 - val_loss: 0.4024 - val_acc: 0.8731\n",
      "Epoch 64/200\n",
      "98/98 [==============================] - 15s 149ms/step - loss: 0.2864 - acc: 0.9021 - val_loss: 0.3980 - val_acc: 0.8743\n",
      "Epoch 65/200\n",
      "98/98 [==============================] - 15s 148ms/step - loss: 0.2848 - acc: 0.9018 - val_loss: 0.3981 - val_acc: 0.8734\n",
      "Epoch 66/200\n",
      "98/98 [==============================] - 14s 144ms/step - loss: 0.2879 - acc: 0.9004 - val_loss: 0.3984 - val_acc: 0.8743\n",
      "Epoch 67/200\n",
      "98/98 [==============================] - 14s 146ms/step - loss: 0.2830 - acc: 0.9015 - val_loss: 0.3963 - val_acc: 0.8745\n",
      "Epoch 68/200\n",
      "98/98 [==============================] - 14s 147ms/step - loss: 0.2810 - acc: 0.9030 - val_loss: 0.4020 - val_acc: 0.8731\n"
     ]
    },
    {
     "name": "stdout",
     "output_type": "stream",
     "text": [
      "Epoch 69/200\n",
      "98/98 [==============================] - 14s 147ms/step - loss: 0.2820 - acc: 0.9026 - val_loss: 0.3998 - val_acc: 0.8735\n",
      "Epoch 70/200\n",
      "98/98 [==============================] - 14s 143ms/step - loss: 0.2802 - acc: 0.9036 - val_loss: 0.3986 - val_acc: 0.8744\n",
      "Epoch 71/200\n",
      "98/98 [==============================] - 14s 145ms/step - loss: 0.2797 - acc: 0.9030 - val_loss: 0.4016 - val_acc: 0.8741\n",
      "Epoch 72/200\n",
      "98/98 [==============================] - 14s 145ms/step - loss: 0.2825 - acc: 0.9015 - val_loss: 0.3998 - val_acc: 0.8738\n",
      "Epoch 73/200\n",
      "98/98 [==============================] - 15s 151ms/step - loss: 0.2807 - acc: 0.9039 - val_loss: 0.3987 - val_acc: 0.8750\n",
      "Epoch 74/200\n",
      "98/98 [==============================] - 14s 147ms/step - loss: 0.2810 - acc: 0.9030 - val_loss: 0.3991 - val_acc: 0.8749\n",
      "Epoch 75/200\n",
      "98/98 [==============================] - 14s 148ms/step - loss: 0.2800 - acc: 0.9036 - val_loss: 0.3989 - val_acc: 0.8749\n",
      "Epoch 76/200\n",
      "98/98 [==============================] - 15s 151ms/step - loss: 0.2836 - acc: 0.9013 - val_loss: 0.3987 - val_acc: 0.8750\n",
      "Epoch 77/200\n",
      "98/98 [==============================] - 16s 165ms/step - loss: 0.2805 - acc: 0.9022 - val_loss: 0.3993 - val_acc: 0.8741\n"
     ]
    }
   ],
   "source": [
    "# fits the model on batches with real-time data augmentation:\n",
    "history = model.fit_generator(datagen.flow(x_train, y_train,\n",
    "                                     batch_size=batch_size), \n",
    "                              epochs=epochs_n,\n",
    "                              validation_data=(x_test,y_test),\n",
    "                              callbacks = callbacks)"
   ]
  },
  {
   "cell_type": "code",
   "execution_count": 5,
   "metadata": {},
   "outputs": [
    {
     "name": "stdout",
     "output_type": "stream",
     "text": [
      "10000/10000 [==============================] - 3s 332us/step\n",
      "[0.39632546342611313, 0.8745]\n"
     ]
    },
    {
     "data": {
      "image/png": "[encoded data removed]",
      "text/plain": [
       "<Figure size 432x288 with 1 Axes>"
      ]
     },
     "metadata": {
      "needs_background": "light"
     },
     "output_type": "display_data"
    },
    {
     "data": {
      "image/png": "[encoded data removed]",
      "text/plain": [
       "<Figure size 432x288 with 1 Axes>"
      ]
     },
     "metadata": {
      "needs_background": "light"
     },
     "output_type": "display_data"
    }
   ],
   "source": [
    "score = model.evaluate(x=x_test,y=y_test)\n",
    "print(score)\n",
    "\n",
    "model.save(filepath + current_job_id)\n",
    "\n",
    "plt.plot(history.history['acc'])\n",
    "plt.plot(history.history['val_acc'])\n",
    "plt.title('model accuracy')\n",
    "plt.ylabel('accuracy')\n",
    "plt.xlabel('epoch')\n",
    "plt.legend(['train', 'test'], loc='upper left')\n",
    "plt.show()\n",
    "# summarize history for loss\n",
    "plt.plot(history.history['loss'])\n",
    "plt.plot(history.history['val_loss'])\n",
    "plt.title('model loss')\n",
    "plt.ylabel('loss')\n",
    "plt.xlabel('epoch')\n",
    "plt.legend(['train', 'test'], loc='upper left')\n",
    "plt.show()"
   ]
  }
 ],
 "metadata": {
  "accelerator": "GPU",
  "colab": {
   "collapsed_sections": [],
   "name": "research.ipynb",
   "provenance": [],
   "version": "0.3.2"
  },
  "kernelspec": {
   "display_name": "Python 3",
   "language": "python",
   "name": "python3"
  },
  "language_info": {
   "codemirror_mode": {
    "name": "ipython",
    "version": 3
   },
   "file_extension": ".py",
   "mimetype": "text/x-python",
   "name": "python",
   "nbconvert_exporter": "python",
   "pygments_lexer": "ipython3",
   "version": "3.7.0"
  }
 },
 "nbformat": 4,
 "nbformat_minor": 1
}
