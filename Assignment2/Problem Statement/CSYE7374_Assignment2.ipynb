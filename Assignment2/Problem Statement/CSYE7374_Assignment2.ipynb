{
  "nbformat": 4,
  "nbformat_minor": 0,
  "metadata": {
    "colab": {
      "name": "CSYE7374_Assignment2.ipynb",
      "version": "0.3.2",
      "provenance": [],
      "collapsed_sections": [],
      "toc_visible": true
    },
    "kernelspec": {
      "name": "python3",
      "display_name": "Python 3"
    }
  },
  "cells": [
    {
      "metadata": {
        "id": "E04uvm5wsQFd",
        "colab_type": "text"
      },
      "cell_type": "markdown",
      "source": [
        "#Assignment 2:"
      ]
    },
    {
      "metadata": {
        "id": "pQyUKxrkszoF",
        "colab_type": "text"
      },
      "cell_type": "markdown",
      "source": [
        "CSYE7374 Cognitive Computing System.\n",
        "\n",
        "Professor: Srikanth Krishnamurthy\n",
        "\n",
        "Date: 10/12/2018"
      ]
    },
    {
      "metadata": {
        "id": "ztix-NantM71",
        "colab_type": "text"
      },
      "cell_type": "markdown",
      "source": [
        "#Problem Statement:"
      ]
    },
    {
      "metadata": {
        "id": "FG8QGg3OtVPS",
        "colab_type": "text"
      },
      "cell_type": "markdown",
      "source": [
        "This is a team assignment with all 11 Students as a team. You have to create an iOS application for Apple users and Flask application for non-Apple users to classify an image against the CIFAR-10 classes with a best deep learning CNN model possible."
      ]
    },
    {
      "metadata": {
        "id": "nINXqNKND-vW",
        "colab_type": "text"
      },
      "cell_type": "markdown",
      "source": [
        "#Technical Specification:"
      ]
    },
    {
      "metadata": {
        "id": "y2qM3-JC727v",
        "colab_type": "text"
      },
      "cell_type": "markdown",
      "source": [
        "\n",
        "1. IDE: **XCode**\n",
        "\n",
        "2. Programming Languages: **Python**, **Swift**\n",
        "\n",
        "3. Container Technology: **Docker**\n",
        "\n",
        "4. Deep Learning framework: **Keras**, **MXnet**, **CoreML**, **TensorFlow**\n",
        "\n",
        "5. Cloud Service Providers: **AWS**, **GCP**, **MS Azure**\n",
        "\n",
        "6. Deep Learning model converter: **ONNX**\n",
        "\n",
        "7. Web Application framework: **Flask**\n",
        "\n",
        "8. Operating Systems: **Mac OS**, **Windows**\n",
        "\n",
        "9. Version Control: **GitHub**\n",
        "\n",
        "10. Virtualization Software: **VMware**, **Oracle VB**"
      ]
    },
    {
      "metadata": {
        "id": "OicQaU8LAZoK",
        "colab_type": "text"
      },
      "cell_type": "markdown",
      "source": [
        "#Part 1: Implementing the best deep learning CNN model for CIFAR-10 Image classification."
      ]
    },
    {
      "metadata": {
        "id": "UBTrJPJ7AsaN",
        "colab_type": "text"
      },
      "cell_type": "markdown",
      "source": [
        "1. As all of you completed Assignment 1, which was based on tunning your deep learning CNN model for different hyperparameters and on different the computational environment to get good accuracy.\n",
        "\n",
        "2. You all have to collaborate and come up with the best CIFAR-10 Image classification model."
      ]
    },
    {
      "metadata": {
        "id": "NfPFSrCZyTLE",
        "colab_type": "text"
      },
      "cell_type": "markdown",
      "source": [
        "# Part-2 A : iOS application creation for CIFAR-10 Image classification."
      ]
    },
    {
      "metadata": {
        "id": "ZY1dm_VeylEn",
        "colab_type": "text"
      },
      "cell_type": "markdown",
      "source": [
        "1. You have to create an iOS application for Apple users to classify an image against CIFAR-10 Classes.\n",
        "2. For an iOS app creation, you have to use XCode IDE provided by Apple to work on and Swift programming language for coding.\n",
        "3. The deep learning framework used will be CoreML.\n",
        "4. We have to create/convert a deep learning best model for CIDAR-10 image classification on/to support CoreML framework.\n",
        "5. You can use ONXX to convert existing deep learning model to support it on CoreML framework.\n",
        "6. XCode and CoreML are Apple product and inbuilt on Apple products like Mac and iPhone.\n",
        "7. Now the application, the deep learning model and CoreML framework will be on user's Apple device, you won't need any cloud solution for this part 1 of the assignment."
      ]
    },
    {
      "metadata": {
        "id": "j74bDUkD2yXh",
        "colab_type": "text"
      },
      "cell_type": "markdown",
      "source": [
        "#Part-2 B: Web application creation for CIFAR-10 Image classification."
      ]
    },
    {
      "metadata": {
        "id": "cAuHt9lL3AqI",
        "colab_type": "text"
      },
      "cell_type": "markdown",
      "source": [
        "1. You have to create a web application for the Apple and Non-Apple users to classify an image against CIFAR-10 Classes.\n",
        "\n",
        "2. For a web application, you will be using the Flask framework.\n",
        "\n",
        "3. You have the best deep learning model for CIFAR-10 Image Classification.\n",
        "\n",
        "4. This time the deep learning framework you will be using is Keras with the backend of MXNet.\n",
        "\n",
        "5. The reason to use MXNet is that it provides a highly scalable platform in conjunction with multiple cloud service provider like AWS, GCP, MS Azure, etc for the deep learning models.\n",
        "\n",
        "6. You will be containerizing this deep learning model using docker to gives the best model and save it on accessible location like S3 bucket, Google drives, etc.\n",
        "\n",
        "7. You will be invoking this best model result to run against the user input in the Flask application for the image classification.\n",
        "\n",
        "8. Containerize the Flask application part and host it to the scalable cloud solution for handling web application for the large volume of users.\n",
        "\n",
        "9. You can use the ONXX to convert the Keras-MXNet model to convert it to the model supported by CoreML.\n",
        "\n",
        "10. You can also use the best model result from Kera-MXNet execution which you saved on accessible location, to use it in the iOS application directly by using ONXX (as the result definition will still be in Keras-MXNet)"
      ]
    },
    {
      "metadata": {
        "id": "Sto6fxZmCMZa",
        "colab_type": "text"
      },
      "cell_type": "markdown",
      "source": [
        "#Submission:"
      ]
    },
    {
      "metadata": {
        "id": "bFOhLlawCgjV",
        "colab_type": "text"
      },
      "cell_type": "markdown",
      "source": [
        "Due Date: 26th Oct 2018, 06:00 pm\n",
        "\n",
        "1. Submit your code on GitHub Repository for the whole class\n",
        "\n",
        "2. Create a Report for the best CNN model for CIFAR-10 Image classification\n",
        "\n",
        "3. Create a Report on how to install and use the iOS app and its design\n",
        "\n",
        "4. Create a Report on how to use the web application and its design\n",
        "\n",
        "5. Create a Report on team contribution"
      ]
    }
  ]
}