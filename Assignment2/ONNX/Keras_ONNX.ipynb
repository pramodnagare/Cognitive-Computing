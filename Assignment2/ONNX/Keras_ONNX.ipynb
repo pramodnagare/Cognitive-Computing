{
 "cells": [
  {
   "cell_type": "code",
   "execution_count": 13,
   "metadata": {},
   "outputs": [],
   "source": [
    "from keras.models import Sequential\n",
    "from keras.layers import Dense\n",
    "from keras.models import model_from_json\n",
    "import numpy\n",
    "import os\n",
    "#import coremltools\n",
    "import pickle\n",
    "import urllib\n",
    "import onnxmltools\n"
   ]
  },
  {
   "cell_type": "code",
   "execution_count": 14,
   "metadata": {},
   "outputs": [
    {
     "data": {
      "text/plain": [
       "('cifar10.h5', <http.client.HTTPMessage at 0x141e5b0e828>)"
      ]
     },
     "execution_count": 14,
     "metadata": {},
     "output_type": "execute_result"
    }
   ],
   "source": [
    "urllib.request.urlretrieve(\"https://s3.amazonaws.com/csye7374/cifar10.json\", filename= 'config.json')\n",
    "\n",
    "urllib.request.urlretrieve(\"https://s3.amazonaws.com/csye7374/cifar10.h5\", filename= 'cifar10.h5')"
   ]
  },
  {
   "cell_type": "code",
   "execution_count": 15,
   "metadata": {},
   "outputs": [],
   "source": [
    "json_file = open('config.json', 'r')\n",
    "loaded_model_json = json_file.read()\n",
    "json_file.close()"
   ]
  },
  {
   "cell_type": "code",
   "execution_count": 16,
   "metadata": {},
   "outputs": [],
   "source": [
    "\n",
    "keras_model = model_from_json(loaded_model_json)"
   ]
  },
  {
   "cell_type": "code",
   "execution_count": 18,
   "metadata": {},
   "outputs": [],
   "source": [
    "keras_model.save('final_keras_model')"
   ]
  },
  {
   "cell_type": "code",
   "execution_count": 17,
   "metadata": {},
   "outputs": [
    {
     "name": "stderr",
     "output_type": "stream",
     "text": [
      "C:\\Users\\Manasa\\Anaconda3\\lib\\site-packages\\onnxmltools\\convert\\common\\_topology.py:674: UserWarning: Some input names are not compliant with ONNX naming convention: ['conv2d_11_input_2:0']\n",
      "  warnings.warn('Some input names are not compliant with ONNX naming convention: %s' % invalid_name)\n",
      "C:\\Users\\Manasa\\Anaconda3\\lib\\site-packages\\onnxmltools\\convert\\common\\_topology.py:689: UserWarning: Some output names are not compliant with ONNX naming convention: ['dense_4_2/Softmax:0']\n",
      "  warnings.warn('Some output names are not compliant with ONNX naming convention: %s' % invalid_name)\n"
     ]
    }
   ],
   "source": [
    "keras_model.load_weights(\"cifar10.h5\")\n",
    "onnx_model = onnxmltools.convert_keras(keras_model)"
   ]
  },
  {
   "cell_type": "code",
   "execution_count": 20,
   "metadata": {},
   "outputs": [],
   "source": [
    "onnxmltools.save_model(onnx_model,'keras_onnx_model')"
   ]
  },
  {
   "cell_type": "code",
   "execution_count": 21,
   "metadata": {},
   "outputs": [],
   "source": [
    "new_onnx_model=onnxmltools.load_model('keras_onnx_model')"
   ]
  },
  {
   "cell_type": "code",
   "execution_count": null,
   "metadata": {},
   "outputs": [],
   "source": []
  }
 ],
 "metadata": {
  "kernelspec": {
   "display_name": "Python 3",
   "language": "python",
   "name": "python3"
  },
  "language_info": {
   "codemirror_mode": {
    "name": "ipython",
    "version": 3
   },
   "file_extension": ".py",
   "mimetype": "text/x-python",
   "name": "python",
   "nbconvert_exporter": "python",
   "pygments_lexer": "ipython3",
   "version": "3.6.5"
  }
 },
 "nbformat": 4,
 "nbformat_minor": 2
}
